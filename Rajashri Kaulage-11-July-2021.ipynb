{
 "cells": [
  {
   "cell_type": "code",
   "execution_count": 1,
   "id": "a774028d",
   "metadata": {},
   "outputs": [],
   "source": [
    "import numpy as np\n",
    "import pandas as pd\n",
    "from matplotlib import pyplot as plt\n",
    "%matplotlib inline\n",
    "import seaborn as sns\n",
    "import statsmodels.api as sm\n",
    "import copy\n",
    "import os\n",
    "import scipy.stats as stats\n",
    "from scipy.stats import ttest_1samp, ttest_ind\n",
    "from statsmodels.stats.power import ttest_power\n",
    "from warnings import filterwarnings\n",
    "filterwarnings(\"ignore\")\n",
    "from IPython.display import Image"
   ]
  },
  {
   "cell_type": "code",
   "execution_count": 2,
   "id": "bcbbf6d5",
   "metadata": {},
   "outputs": [
    {
     "data": {
      "text/html": [
       "<div>\n",
       "<style scoped>\n",
       "    .dataframe tbody tr th:only-of-type {\n",
       "        vertical-align: middle;\n",
       "    }\n",
       "\n",
       "    .dataframe tbody tr th {\n",
       "        vertical-align: top;\n",
       "    }\n",
       "\n",
       "    .dataframe thead th {\n",
       "        text-align: right;\n",
       "    }\n",
       "</style>\n",
       "<table border=\"1\" class=\"dataframe\">\n",
       "  <thead>\n",
       "    <tr style=\"text-align: right;\">\n",
       "      <th></th>\n",
       "      <th>Buyer/Spender</th>\n",
       "      <th>Channel</th>\n",
       "      <th>Region</th>\n",
       "      <th>Fresh</th>\n",
       "      <th>Milk</th>\n",
       "      <th>Grocery</th>\n",
       "      <th>Frozen</th>\n",
       "      <th>Detergents_Paper</th>\n",
       "      <th>Delicatessen</th>\n",
       "    </tr>\n",
       "  </thead>\n",
       "  <tbody>\n",
       "    <tr>\n",
       "      <th>0</th>\n",
       "      <td>1</td>\n",
       "      <td>Retail</td>\n",
       "      <td>Other</td>\n",
       "      <td>12669</td>\n",
       "      <td>9656</td>\n",
       "      <td>7561</td>\n",
       "      <td>214</td>\n",
       "      <td>2674</td>\n",
       "      <td>1338</td>\n",
       "    </tr>\n",
       "    <tr>\n",
       "      <th>1</th>\n",
       "      <td>2</td>\n",
       "      <td>Retail</td>\n",
       "      <td>Other</td>\n",
       "      <td>7057</td>\n",
       "      <td>9810</td>\n",
       "      <td>9568</td>\n",
       "      <td>1762</td>\n",
       "      <td>3293</td>\n",
       "      <td>1776</td>\n",
       "    </tr>\n",
       "    <tr>\n",
       "      <th>2</th>\n",
       "      <td>3</td>\n",
       "      <td>Retail</td>\n",
       "      <td>Other</td>\n",
       "      <td>6353</td>\n",
       "      <td>8808</td>\n",
       "      <td>7684</td>\n",
       "      <td>2405</td>\n",
       "      <td>3516</td>\n",
       "      <td>7844</td>\n",
       "    </tr>\n",
       "    <tr>\n",
       "      <th>3</th>\n",
       "      <td>4</td>\n",
       "      <td>Hotel</td>\n",
       "      <td>Other</td>\n",
       "      <td>13265</td>\n",
       "      <td>1196</td>\n",
       "      <td>4221</td>\n",
       "      <td>6404</td>\n",
       "      <td>507</td>\n",
       "      <td>1788</td>\n",
       "    </tr>\n",
       "    <tr>\n",
       "      <th>4</th>\n",
       "      <td>5</td>\n",
       "      <td>Retail</td>\n",
       "      <td>Other</td>\n",
       "      <td>22615</td>\n",
       "      <td>5410</td>\n",
       "      <td>7198</td>\n",
       "      <td>3915</td>\n",
       "      <td>1777</td>\n",
       "      <td>5185</td>\n",
       "    </tr>\n",
       "  </tbody>\n",
       "</table>\n",
       "</div>"
      ],
      "text/plain": [
       "   Buyer/Spender Channel Region  Fresh  Milk  Grocery  Frozen  \\\n",
       "0              1  Retail  Other  12669  9656     7561     214   \n",
       "1              2  Retail  Other   7057  9810     9568    1762   \n",
       "2              3  Retail  Other   6353  8808     7684    2405   \n",
       "3              4   Hotel  Other  13265  1196     4221    6404   \n",
       "4              5  Retail  Other  22615  5410     7198    3915   \n",
       "\n",
       "   Detergents_Paper  Delicatessen  \n",
       "0              2674          1338  \n",
       "1              3293          1776  \n",
       "2              3516          7844  \n",
       "3               507          1788  \n",
       "4              1777          5185  "
      ]
     },
     "execution_count": 2,
     "metadata": {},
     "output_type": "execute_result"
    }
   ],
   "source": [
    "df=pd.read_csv(\"C:/Users/Rajashri/Downloads/Wholesale Customer.csv\")\n",
    "df.head(5)"
   ]
  },
  {
   "cell_type": "code",
   "execution_count": 3,
   "id": "1739b3de",
   "metadata": {},
   "outputs": [
    {
     "name": "stdout",
     "output_type": "stream",
     "text": [
      "From the above table we can find out :\n",
      "-There are two different channels Hotel and Retail which are having three different Regions-Lisbon, Oporto and Other.\n",
      "-They are having 6 different varieties of products i.e.Fresh,Milk,Grocery,Frozen,Detergents_Paper & Delicatessen.\n"
     ]
    }
   ],
   "source": [
    "print(\"From the above table we can find out :\")\n",
    "print(\"-There are two different channels Hotel and Retail which are having three different Regions-Lisbon, Oporto and Other.\")\n",
    "print(\"-They are having 6 different varieties of products i.e.Fresh,Milk,Grocery,Frozen,Detergents_Paper & Delicatessen.\")"
   ]
  },
  {
   "cell_type": "code",
   "execution_count": 4,
   "id": "3124da17",
   "metadata": {},
   "outputs": [
    {
     "name": "stdout",
     "output_type": "stream",
     "text": [
      "<class 'pandas.core.frame.DataFrame'>\n",
      "RangeIndex: 440 entries, 0 to 439\n",
      "Data columns (total 9 columns):\n",
      " #   Column            Non-Null Count  Dtype \n",
      "---  ------            --------------  ----- \n",
      " 0   Buyer/Spender     440 non-null    int64 \n",
      " 1   Channel           440 non-null    object\n",
      " 2   Region            440 non-null    object\n",
      " 3   Fresh             440 non-null    int64 \n",
      " 4   Milk              440 non-null    int64 \n",
      " 5   Grocery           440 non-null    int64 \n",
      " 6   Frozen            440 non-null    int64 \n",
      " 7   Detergents_Paper  440 non-null    int64 \n",
      " 8   Delicatessen      440 non-null    int64 \n",
      "dtypes: int64(7), object(2)\n",
      "memory usage: 31.1+ KB\n"
     ]
    }
   ],
   "source": [
    "df.info()"
   ]
  },
  {
   "cell_type": "code",
   "execution_count": 5,
   "id": "e397cc76",
   "metadata": {},
   "outputs": [
    {
     "data": {
      "text/html": [
       "<div>\n",
       "<style scoped>\n",
       "    .dataframe tbody tr th:only-of-type {\n",
       "        vertical-align: middle;\n",
       "    }\n",
       "\n",
       "    .dataframe tbody tr th {\n",
       "        vertical-align: top;\n",
       "    }\n",
       "\n",
       "    .dataframe thead th {\n",
       "        text-align: right;\n",
       "    }\n",
       "</style>\n",
       "<table border=\"1\" class=\"dataframe\">\n",
       "  <thead>\n",
       "    <tr style=\"text-align: right;\">\n",
       "      <th></th>\n",
       "      <th>count</th>\n",
       "      <th>mean</th>\n",
       "      <th>std</th>\n",
       "      <th>min</th>\n",
       "      <th>25%</th>\n",
       "      <th>50%</th>\n",
       "      <th>75%</th>\n",
       "      <th>max</th>\n",
       "    </tr>\n",
       "  </thead>\n",
       "  <tbody>\n",
       "    <tr>\n",
       "      <th>Buyer/Spender</th>\n",
       "      <td>440.0</td>\n",
       "      <td>220.500000</td>\n",
       "      <td>127.161315</td>\n",
       "      <td>1.0</td>\n",
       "      <td>110.75</td>\n",
       "      <td>220.5</td>\n",
       "      <td>330.25</td>\n",
       "      <td>440.0</td>\n",
       "    </tr>\n",
       "    <tr>\n",
       "      <th>Fresh</th>\n",
       "      <td>440.0</td>\n",
       "      <td>12000.297727</td>\n",
       "      <td>12647.328865</td>\n",
       "      <td>3.0</td>\n",
       "      <td>3127.75</td>\n",
       "      <td>8504.0</td>\n",
       "      <td>16933.75</td>\n",
       "      <td>112151.0</td>\n",
       "    </tr>\n",
       "    <tr>\n",
       "      <th>Milk</th>\n",
       "      <td>440.0</td>\n",
       "      <td>5796.265909</td>\n",
       "      <td>7380.377175</td>\n",
       "      <td>55.0</td>\n",
       "      <td>1533.00</td>\n",
       "      <td>3627.0</td>\n",
       "      <td>7190.25</td>\n",
       "      <td>73498.0</td>\n",
       "    </tr>\n",
       "    <tr>\n",
       "      <th>Grocery</th>\n",
       "      <td>440.0</td>\n",
       "      <td>7951.277273</td>\n",
       "      <td>9503.162829</td>\n",
       "      <td>3.0</td>\n",
       "      <td>2153.00</td>\n",
       "      <td>4755.5</td>\n",
       "      <td>10655.75</td>\n",
       "      <td>92780.0</td>\n",
       "    </tr>\n",
       "    <tr>\n",
       "      <th>Frozen</th>\n",
       "      <td>440.0</td>\n",
       "      <td>3071.931818</td>\n",
       "      <td>4854.673333</td>\n",
       "      <td>25.0</td>\n",
       "      <td>742.25</td>\n",
       "      <td>1526.0</td>\n",
       "      <td>3554.25</td>\n",
       "      <td>60869.0</td>\n",
       "    </tr>\n",
       "    <tr>\n",
       "      <th>Detergents_Paper</th>\n",
       "      <td>440.0</td>\n",
       "      <td>2881.493182</td>\n",
       "      <td>4767.854448</td>\n",
       "      <td>3.0</td>\n",
       "      <td>256.75</td>\n",
       "      <td>816.5</td>\n",
       "      <td>3922.00</td>\n",
       "      <td>40827.0</td>\n",
       "    </tr>\n",
       "    <tr>\n",
       "      <th>Delicatessen</th>\n",
       "      <td>440.0</td>\n",
       "      <td>1524.870455</td>\n",
       "      <td>2820.105937</td>\n",
       "      <td>3.0</td>\n",
       "      <td>408.25</td>\n",
       "      <td>965.5</td>\n",
       "      <td>1820.25</td>\n",
       "      <td>47943.0</td>\n",
       "    </tr>\n",
       "  </tbody>\n",
       "</table>\n",
       "</div>"
      ],
      "text/plain": [
       "                  count          mean           std   min      25%     50%  \\\n",
       "Buyer/Spender     440.0    220.500000    127.161315   1.0   110.75   220.5   \n",
       "Fresh             440.0  12000.297727  12647.328865   3.0  3127.75  8504.0   \n",
       "Milk              440.0   5796.265909   7380.377175  55.0  1533.00  3627.0   \n",
       "Grocery           440.0   7951.277273   9503.162829   3.0  2153.00  4755.5   \n",
       "Frozen            440.0   3071.931818   4854.673333  25.0   742.25  1526.0   \n",
       "Detergents_Paper  440.0   2881.493182   4767.854448   3.0   256.75   816.5   \n",
       "Delicatessen      440.0   1524.870455   2820.105937   3.0   408.25   965.5   \n",
       "\n",
       "                       75%       max  \n",
       "Buyer/Spender       330.25     440.0  \n",
       "Fresh             16933.75  112151.0  \n",
       "Milk               7190.25   73498.0  \n",
       "Grocery           10655.75   92780.0  \n",
       "Frozen             3554.25   60869.0  \n",
       "Detergents_Paper   3922.00   40827.0  \n",
       "Delicatessen       1820.25   47943.0  "
      ]
     },
     "execution_count": 5,
     "metadata": {},
     "output_type": "execute_result"
    }
   ],
   "source": [
    "# Answer for question 1.1-Use methods of descriptive statistics to summarize data.\n",
    "df.describe().T"
   ]
  },
  {
   "cell_type": "code",
   "execution_count": 6,
   "id": "541e9da2",
   "metadata": {},
   "outputs": [
    {
     "name": "stdout",
     "output_type": "stream",
     "text": [
      "Obersvation:\n",
      "Basis on describe function we can find out standrad deviation, mean, max value, min value , 1st quartile(25%),\n",
      "2nd quartile(50%) and 3rd quartile(75%). We can also calculate range from max & min value.\n"
     ]
    }
   ],
   "source": [
    "print(\"Obersvation:\")\n",
    "print(\"Basis on describe function we can find out standrad deviation, mean, max value, min value , 1st quartile(25%),\")\n",
    "print(\"2nd quartile(50%) and 3rd quartile(75%). We can also calculate range from max & min value.\")"
   ]
  },
  {
   "cell_type": "code",
   "execution_count": 7,
   "id": "591f82b5",
   "metadata": {},
   "outputs": [
    {
     "data": {
      "text/html": [
       "<div>\n",
       "<style scoped>\n",
       "    .dataframe tbody tr th:only-of-type {\n",
       "        vertical-align: middle;\n",
       "    }\n",
       "\n",
       "    .dataframe tbody tr th {\n",
       "        vertical-align: top;\n",
       "    }\n",
       "\n",
       "    .dataframe thead th {\n",
       "        text-align: right;\n",
       "    }\n",
       "</style>\n",
       "<table border=\"1\" class=\"dataframe\">\n",
       "  <thead>\n",
       "    <tr style=\"text-align: right;\">\n",
       "      <th></th>\n",
       "      <th>Channel</th>\n",
       "      <th>Region</th>\n",
       "      <th>Fresh</th>\n",
       "      <th>Milk</th>\n",
       "      <th>Grocery</th>\n",
       "      <th>Frozen</th>\n",
       "      <th>Detergents_Paper</th>\n",
       "      <th>Delicatessen</th>\n",
       "    </tr>\n",
       "  </thead>\n",
       "  <tbody>\n",
       "    <tr>\n",
       "      <th>0</th>\n",
       "      <td>Retail</td>\n",
       "      <td>Other</td>\n",
       "      <td>12669</td>\n",
       "      <td>9656</td>\n",
       "      <td>7561</td>\n",
       "      <td>214</td>\n",
       "      <td>2674</td>\n",
       "      <td>1338</td>\n",
       "    </tr>\n",
       "    <tr>\n",
       "      <th>1</th>\n",
       "      <td>Retail</td>\n",
       "      <td>Other</td>\n",
       "      <td>7057</td>\n",
       "      <td>9810</td>\n",
       "      <td>9568</td>\n",
       "      <td>1762</td>\n",
       "      <td>3293</td>\n",
       "      <td>1776</td>\n",
       "    </tr>\n",
       "    <tr>\n",
       "      <th>2</th>\n",
       "      <td>Retail</td>\n",
       "      <td>Other</td>\n",
       "      <td>6353</td>\n",
       "      <td>8808</td>\n",
       "      <td>7684</td>\n",
       "      <td>2405</td>\n",
       "      <td>3516</td>\n",
       "      <td>7844</td>\n",
       "    </tr>\n",
       "    <tr>\n",
       "      <th>3</th>\n",
       "      <td>Hotel</td>\n",
       "      <td>Other</td>\n",
       "      <td>13265</td>\n",
       "      <td>1196</td>\n",
       "      <td>4221</td>\n",
       "      <td>6404</td>\n",
       "      <td>507</td>\n",
       "      <td>1788</td>\n",
       "    </tr>\n",
       "    <tr>\n",
       "      <th>4</th>\n",
       "      <td>Retail</td>\n",
       "      <td>Other</td>\n",
       "      <td>22615</td>\n",
       "      <td>5410</td>\n",
       "      <td>7198</td>\n",
       "      <td>3915</td>\n",
       "      <td>1777</td>\n",
       "      <td>5185</td>\n",
       "    </tr>\n",
       "  </tbody>\n",
       "</table>\n",
       "</div>"
      ],
      "text/plain": [
       "  Channel Region  Fresh  Milk  Grocery  Frozen  Detergents_Paper  Delicatessen\n",
       "0  Retail  Other  12669  9656     7561     214              2674          1338\n",
       "1  Retail  Other   7057  9810     9568    1762              3293          1776\n",
       "2  Retail  Other   6353  8808     7684    2405              3516          7844\n",
       "3   Hotel  Other  13265  1196     4221    6404               507          1788\n",
       "4  Retail  Other  22615  5410     7198    3915              1777          5185"
      ]
     },
     "execution_count": 7,
     "metadata": {},
     "output_type": "execute_result"
    }
   ],
   "source": [
    "#Dropping out Buyer/Spender column to avoid confusion.\n",
    "df4=copy.deepcopy(df)\n",
    "del df4['Buyer/Spender']\n",
    "df4.head(5)"
   ]
  },
  {
   "cell_type": "code",
   "execution_count": 8,
   "id": "bcdacea5",
   "metadata": {},
   "outputs": [
    {
     "data": {
      "text/html": [
       "<div>\n",
       "<style scoped>\n",
       "    .dataframe tbody tr th:only-of-type {\n",
       "        vertical-align: middle;\n",
       "    }\n",
       "\n",
       "    .dataframe tbody tr th {\n",
       "        vertical-align: top;\n",
       "    }\n",
       "\n",
       "    .dataframe thead th {\n",
       "        text-align: right;\n",
       "    }\n",
       "</style>\n",
       "<table border=\"1\" class=\"dataframe\">\n",
       "  <thead>\n",
       "    <tr style=\"text-align: right;\">\n",
       "      <th></th>\n",
       "      <th>Channel</th>\n",
       "      <th>Region</th>\n",
       "      <th>Fresh</th>\n",
       "      <th>Milk</th>\n",
       "      <th>Grocery</th>\n",
       "      <th>Frozen</th>\n",
       "      <th>Detergents_Paper</th>\n",
       "      <th>Delicatessen</th>\n",
       "      <th>Total</th>\n",
       "    </tr>\n",
       "  </thead>\n",
       "  <tbody>\n",
       "    <tr>\n",
       "      <th>0</th>\n",
       "      <td>Retail</td>\n",
       "      <td>Other</td>\n",
       "      <td>12669</td>\n",
       "      <td>9656</td>\n",
       "      <td>7561</td>\n",
       "      <td>214</td>\n",
       "      <td>2674</td>\n",
       "      <td>1338</td>\n",
       "      <td>34112</td>\n",
       "    </tr>\n",
       "    <tr>\n",
       "      <th>1</th>\n",
       "      <td>Retail</td>\n",
       "      <td>Other</td>\n",
       "      <td>7057</td>\n",
       "      <td>9810</td>\n",
       "      <td>9568</td>\n",
       "      <td>1762</td>\n",
       "      <td>3293</td>\n",
       "      <td>1776</td>\n",
       "      <td>33266</td>\n",
       "    </tr>\n",
       "    <tr>\n",
       "      <th>2</th>\n",
       "      <td>Retail</td>\n",
       "      <td>Other</td>\n",
       "      <td>6353</td>\n",
       "      <td>8808</td>\n",
       "      <td>7684</td>\n",
       "      <td>2405</td>\n",
       "      <td>3516</td>\n",
       "      <td>7844</td>\n",
       "      <td>36610</td>\n",
       "    </tr>\n",
       "    <tr>\n",
       "      <th>3</th>\n",
       "      <td>Hotel</td>\n",
       "      <td>Other</td>\n",
       "      <td>13265</td>\n",
       "      <td>1196</td>\n",
       "      <td>4221</td>\n",
       "      <td>6404</td>\n",
       "      <td>507</td>\n",
       "      <td>1788</td>\n",
       "      <td>27381</td>\n",
       "    </tr>\n",
       "    <tr>\n",
       "      <th>4</th>\n",
       "      <td>Retail</td>\n",
       "      <td>Other</td>\n",
       "      <td>22615</td>\n",
       "      <td>5410</td>\n",
       "      <td>7198</td>\n",
       "      <td>3915</td>\n",
       "      <td>1777</td>\n",
       "      <td>5185</td>\n",
       "      <td>46100</td>\n",
       "    </tr>\n",
       "  </tbody>\n",
       "</table>\n",
       "</div>"
      ],
      "text/plain": [
       "  Channel Region  Fresh  Milk  Grocery  Frozen  Detergents_Paper  \\\n",
       "0  Retail  Other  12669  9656     7561     214              2674   \n",
       "1  Retail  Other   7057  9810     9568    1762              3293   \n",
       "2  Retail  Other   6353  8808     7684    2405              3516   \n",
       "3   Hotel  Other  13265  1196     4221    6404               507   \n",
       "4  Retail  Other  22615  5410     7198    3915              1777   \n",
       "\n",
       "   Delicatessen  Total  \n",
       "0          1338  34112  \n",
       "1          1776  33266  \n",
       "2          7844  36610  \n",
       "3          1788  27381  \n",
       "4          5185  46100  "
      ]
     },
     "execution_count": 8,
     "metadata": {},
     "output_type": "execute_result"
    }
   ],
   "source": [
    "#Created new column'Total' for sum of all products\n",
    "df5 = copy.deepcopy(df4)\n",
    "df5['Total'] =df4['Fresh']+df4['Milk']+df4['Grocery']+df4['Frozen']+df4['Detergents_Paper']+df4['Delicatessen']\n",
    "df5.head(5)"
   ]
  },
  {
   "cell_type": "code",
   "execution_count": 9,
   "id": "c8012293",
   "metadata": {},
   "outputs": [
    {
     "data": {
      "text/plain": [
       "Hotel     298\n",
       "Retail    142\n",
       "Name: Channel, dtype: int64"
      ]
     },
     "execution_count": 9,
     "metadata": {},
     "output_type": "execute_result"
    }
   ],
   "source": [
    "#Channel Count\n",
    "df5['Channel'].value_counts()"
   ]
  },
  {
   "cell_type": "code",
   "execution_count": 10,
   "id": "4f7241bf",
   "metadata": {},
   "outputs": [
    {
     "data": {
      "text/plain": [
       "Other     316\n",
       "Lisbon     77\n",
       "Oporto     47\n",
       "Name: Region, dtype: int64"
      ]
     },
     "execution_count": 10,
     "metadata": {},
     "output_type": "execute_result"
    }
   ],
   "source": [
    "#Region Count\n",
    "df5['Region'].value_counts()"
   ]
  },
  {
   "cell_type": "code",
   "execution_count": 11,
   "id": "b0710194",
   "metadata": {},
   "outputs": [
    {
     "data": {
      "text/plain": [
       "Region\n",
       "Lisbon     2386813\n",
       "Oporto     1555088\n",
       "Other     10677599\n",
       "Name: Total, dtype: int64"
      ]
     },
     "execution_count": 11,
     "metadata": {},
     "output_type": "execute_result"
    }
   ],
   "source": [
    "region = df5.groupby('Region')['Total'].sum()\n",
    "region"
   ]
  },
  {
   "cell_type": "code",
   "execution_count": 12,
   "id": "f4b6b6e5",
   "metadata": {},
   "outputs": [
    {
     "data": {
      "image/png": "[encoded data removed]",
      "text/plain": [
       "<Figure size 432x288 with 1 Axes>"
      ]
     },
     "metadata": {
      "needs_background": "light"
     },
     "output_type": "display_data"
    },
    {
     "name": "stdout",
     "output_type": "stream",
     "text": [
      "Observations:\n",
      "Other regions spending amount is $10677599 which is highest spend and,\n",
      "Oporto region spending amount is $1555088 which is least spend.\n"
     ]
    }
   ],
   "source": [
    "# Answer for Regionwise Most & least spend\n",
    "sns.countplot(df5['Region'])\n",
    "plt.show()\n",
    "print(\"Observations:\")\n",
    "print(\"Other regions spending amount is $10677599 which is highest spend and,\")\n",
    "print(\"Oporto region spending amount is $1555088 which is least spend.\")"
   ]
  },
  {
   "cell_type": "code",
   "execution_count": 13,
   "id": "80e17450",
   "metadata": {},
   "outputs": [
    {
     "data": {
      "text/plain": [
       "Channel\n",
       "Hotel     7999569\n",
       "Retail    6619931\n",
       "Name: Total, dtype: int64"
      ]
     },
     "execution_count": 13,
     "metadata": {},
     "output_type": "execute_result"
    }
   ],
   "source": [
    "channel = df5.groupby('Channel')['Total'].sum()\n",
    "channel"
   ]
  },
  {
   "cell_type": "code",
   "execution_count": 14,
   "id": "178892af",
   "metadata": {},
   "outputs": [
    {
     "data": {
      "image/png": "[encoded data removed]",
      "text/plain": [
       "<Figure size 432x288 with 1 Axes>"
      ]
     },
     "metadata": {
      "needs_background": "light"
     },
     "output_type": "display_data"
    },
    {
     "name": "stdout",
     "output_type": "stream",
     "text": [
      "Observations:\n",
      "Hotel channel spending $7999569 which is highest spend and,\n",
      "Retail channel spending amount is $6619931 which is least spend.\n"
     ]
    }
   ],
   "source": [
    "# Answer for Channel Most & least spend\n",
    "sns.countplot(df5['Channel'])\n",
    "plt.show()\n",
    "print(\"Observations:\")\n",
    "print(\"Hotel channel spending $7999569 which is highest spend and,\")\n",
    "print(\"Retail channel spending amount is $6619931 which is least spend.\")"
   ]
  },
  {
   "cell_type": "code",
   "execution_count": 15,
   "id": "2bf77f20",
   "metadata": {},
   "outputs": [
    {
     "name": "stdout",
     "output_type": "stream",
     "text": [
      "Region  Channel\n",
      "Lisbon  Hotel      1538342\n",
      "        Retail      848471\n",
      "Oporto  Hotel       719150\n",
      "        Retail      835938\n",
      "Other   Hotel      5742077\n",
      "        Retail     4935522\n",
      "Name: Total, dtype: int64\n",
      "\n",
      "Observation :\n",
      "Basis on above data we can see that, maximum amount spent on 'Hotel' Channel and 'Other' Region.\n",
      "minimum amount spent on 'Hotel' Channel and 'Oporto' Region.\n"
     ]
    }
   ],
   "source": [
    "# Answer for Combination of Region & Channel\n",
    "region_channel = df5.groupby(['Region','Channel'])['Total'].sum()\n",
    "print(region_channel)\n",
    "print('')\n",
    "print(\"Observation :\")\n",
    "print(\"Basis on above data we can see that, maximum amount spent on 'Hotel' Channel and 'Other' Region.\")\n",
    "print(\"minimum amount spent on 'Hotel' Channel and 'Oporto' Region.\")"
   ]
  },
  {
   "cell_type": "code",
   "execution_count": 16,
   "id": "4137d6d5",
   "metadata": {},
   "outputs": [
    {
     "data": {
      "text/html": [
       "<div>\n",
       "<style scoped>\n",
       "    .dataframe tbody tr th:only-of-type {\n",
       "        vertical-align: middle;\n",
       "    }\n",
       "\n",
       "    .dataframe tbody tr th {\n",
       "        vertical-align: top;\n",
       "    }\n",
       "\n",
       "    .dataframe thead tr th {\n",
       "        text-align: left;\n",
       "    }\n",
       "\n",
       "    .dataframe thead tr:last-of-type th {\n",
       "        text-align: right;\n",
       "    }\n",
       "</style>\n",
       "<table border=\"1\" class=\"dataframe\">\n",
       "  <thead>\n",
       "    <tr>\n",
       "      <th></th>\n",
       "      <th colspan=\"3\" halign=\"left\">sum</th>\n",
       "    </tr>\n",
       "    <tr>\n",
       "      <th></th>\n",
       "      <th colspan=\"3\" halign=\"left\">Fresh</th>\n",
       "    </tr>\n",
       "    <tr>\n",
       "      <th>Region</th>\n",
       "      <th>Lisbon</th>\n",
       "      <th>Oporto</th>\n",
       "      <th>Other</th>\n",
       "    </tr>\n",
       "    <tr>\n",
       "      <th>Channel</th>\n",
       "      <th></th>\n",
       "      <th></th>\n",
       "      <th></th>\n",
       "    </tr>\n",
       "  </thead>\n",
       "  <tbody>\n",
       "    <tr>\n",
       "      <th>Hotel</th>\n",
       "      <td>761233</td>\n",
       "      <td>326215</td>\n",
       "      <td>2928269</td>\n",
       "    </tr>\n",
       "    <tr>\n",
       "      <th>Retail</th>\n",
       "      <td>93600</td>\n",
       "      <td>138506</td>\n",
       "      <td>1032308</td>\n",
       "    </tr>\n",
       "  </tbody>\n",
       "</table>\n",
       "</div>"
      ],
      "text/plain": [
       "            sum                 \n",
       "          Fresh                 \n",
       "Region   Lisbon  Oporto    Other\n",
       "Channel                         \n",
       "Hotel    761233  326215  2928269\n",
       "Retail    93600  138506  1032308"
      ]
     },
     "execution_count": 16,
     "metadata": {},
     "output_type": "execute_result"
    }
   ],
   "source": [
    "# Answer for 1.2 question - There are 6 different varieties of items that are considered. Describe and comment/explain all the varieties across Region and Channel?\n",
    "Freshpivot=pd.pivot_table(data=df5,index=['Channel'],columns=['Region'],values=['Fresh'],aggfunc=['sum'])\n",
    "Freshpivot"
   ]
  },
  {
   "cell_type": "code",
   "execution_count": 17,
   "id": "e2c04110",
   "metadata": {},
   "outputs": [
    {
     "data": {
      "text/html": [
       "<div>\n",
       "<style scoped>\n",
       "    .dataframe tbody tr th:only-of-type {\n",
       "        vertical-align: middle;\n",
       "    }\n",
       "\n",
       "    .dataframe tbody tr th {\n",
       "        vertical-align: top;\n",
       "    }\n",
       "\n",
       "    .dataframe thead tr th {\n",
       "        text-align: left;\n",
       "    }\n",
       "\n",
       "    .dataframe thead tr:last-of-type th {\n",
       "        text-align: right;\n",
       "    }\n",
       "</style>\n",
       "<table border=\"1\" class=\"dataframe\">\n",
       "  <thead>\n",
       "    <tr>\n",
       "      <th></th>\n",
       "      <th colspan=\"3\" halign=\"left\">sum</th>\n",
       "    </tr>\n",
       "    <tr>\n",
       "      <th></th>\n",
       "      <th colspan=\"3\" halign=\"left\">Milk</th>\n",
       "    </tr>\n",
       "    <tr>\n",
       "      <th>Region</th>\n",
       "      <th>Lisbon</th>\n",
       "      <th>Oporto</th>\n",
       "      <th>Other</th>\n",
       "    </tr>\n",
       "    <tr>\n",
       "      <th>Channel</th>\n",
       "      <th></th>\n",
       "      <th></th>\n",
       "      <th></th>\n",
       "    </tr>\n",
       "  </thead>\n",
       "  <tbody>\n",
       "    <tr>\n",
       "      <th>Hotel</th>\n",
       "      <td>228342</td>\n",
       "      <td>64519</td>\n",
       "      <td>735753</td>\n",
       "    </tr>\n",
       "    <tr>\n",
       "      <th>Retail</th>\n",
       "      <td>194112</td>\n",
       "      <td>174625</td>\n",
       "      <td>1153006</td>\n",
       "    </tr>\n",
       "  </tbody>\n",
       "</table>\n",
       "</div>"
      ],
      "text/plain": [
       "            sum                 \n",
       "           Milk                 \n",
       "Region   Lisbon  Oporto    Other\n",
       "Channel                         \n",
       "Hotel    228342   64519   735753\n",
       "Retail   194112  174625  1153006"
      ]
     },
     "execution_count": 17,
     "metadata": {},
     "output_type": "execute_result"
    }
   ],
   "source": [
    "Milkpivot=pd.pivot_table(data=df5,index=['Channel'],columns=['Region'],values=['Milk'],aggfunc=['sum'])\n",
    "Milkpivot"
   ]
  },
  {
   "cell_type": "code",
   "execution_count": 18,
   "id": "0e102b95",
   "metadata": {},
   "outputs": [
    {
     "data": {
      "text/html": [
       "<div>\n",
       "<style scoped>\n",
       "    .dataframe tbody tr th:only-of-type {\n",
       "        vertical-align: middle;\n",
       "    }\n",
       "\n",
       "    .dataframe tbody tr th {\n",
       "        vertical-align: top;\n",
       "    }\n",
       "\n",
       "    .dataframe thead tr th {\n",
       "        text-align: left;\n",
       "    }\n",
       "\n",
       "    .dataframe thead tr:last-of-type th {\n",
       "        text-align: right;\n",
       "    }\n",
       "</style>\n",
       "<table border=\"1\" class=\"dataframe\">\n",
       "  <thead>\n",
       "    <tr>\n",
       "      <th></th>\n",
       "      <th colspan=\"3\" halign=\"left\">sum</th>\n",
       "    </tr>\n",
       "    <tr>\n",
       "      <th></th>\n",
       "      <th colspan=\"3\" halign=\"left\">Frozen</th>\n",
       "    </tr>\n",
       "    <tr>\n",
       "      <th>Region</th>\n",
       "      <th>Lisbon</th>\n",
       "      <th>Oporto</th>\n",
       "      <th>Other</th>\n",
       "    </tr>\n",
       "    <tr>\n",
       "      <th>Channel</th>\n",
       "      <th></th>\n",
       "      <th></th>\n",
       "      <th></th>\n",
       "    </tr>\n",
       "  </thead>\n",
       "  <tbody>\n",
       "    <tr>\n",
       "      <th>Hotel</th>\n",
       "      <td>184512</td>\n",
       "      <td>160861</td>\n",
       "      <td>771606</td>\n",
       "    </tr>\n",
       "    <tr>\n",
       "      <th>Retail</th>\n",
       "      <td>46514</td>\n",
       "      <td>29271</td>\n",
       "      <td>158886</td>\n",
       "    </tr>\n",
       "  </tbody>\n",
       "</table>\n",
       "</div>"
      ],
      "text/plain": [
       "            sum                \n",
       "         Frozen                \n",
       "Region   Lisbon  Oporto   Other\n",
       "Channel                        \n",
       "Hotel    184512  160861  771606\n",
       "Retail    46514   29271  158886"
      ]
     },
     "execution_count": 18,
     "metadata": {},
     "output_type": "execute_result"
    }
   ],
   "source": [
    "Frozenpivot=pd.pivot_table(data=df5,index=['Channel'],columns=['Region'],values=['Frozen'],aggfunc=['sum'])\n",
    "Frozenpivot"
   ]
  },
  {
   "cell_type": "code",
   "execution_count": 19,
   "id": "c99135c1",
   "metadata": {},
   "outputs": [
    {
     "data": {
      "text/html": [
       "<div>\n",
       "<style scoped>\n",
       "    .dataframe tbody tr th:only-of-type {\n",
       "        vertical-align: middle;\n",
       "    }\n",
       "\n",
       "    .dataframe tbody tr th {\n",
       "        vertical-align: top;\n",
       "    }\n",
       "\n",
       "    .dataframe thead tr th {\n",
       "        text-align: left;\n",
       "    }\n",
       "\n",
       "    .dataframe thead tr:last-of-type th {\n",
       "        text-align: right;\n",
       "    }\n",
       "</style>\n",
       "<table border=\"1\" class=\"dataframe\">\n",
       "  <thead>\n",
       "    <tr>\n",
       "      <th></th>\n",
       "      <th colspan=\"3\" halign=\"left\">sum</th>\n",
       "    </tr>\n",
       "    <tr>\n",
       "      <th></th>\n",
       "      <th colspan=\"3\" halign=\"left\">Grocery</th>\n",
       "    </tr>\n",
       "    <tr>\n",
       "      <th>Region</th>\n",
       "      <th>Lisbon</th>\n",
       "      <th>Oporto</th>\n",
       "      <th>Other</th>\n",
       "    </tr>\n",
       "    <tr>\n",
       "      <th>Channel</th>\n",
       "      <th></th>\n",
       "      <th></th>\n",
       "      <th></th>\n",
       "    </tr>\n",
       "  </thead>\n",
       "  <tbody>\n",
       "    <tr>\n",
       "      <th>Hotel</th>\n",
       "      <td>237542</td>\n",
       "      <td>123074</td>\n",
       "      <td>820101</td>\n",
       "    </tr>\n",
       "    <tr>\n",
       "      <th>Retail</th>\n",
       "      <td>332495</td>\n",
       "      <td>310200</td>\n",
       "      <td>1675150</td>\n",
       "    </tr>\n",
       "  </tbody>\n",
       "</table>\n",
       "</div>"
      ],
      "text/plain": [
       "            sum                 \n",
       "        Grocery                 \n",
       "Region   Lisbon  Oporto    Other\n",
       "Channel                         \n",
       "Hotel    237542  123074   820101\n",
       "Retail   332495  310200  1675150"
      ]
     },
     "execution_count": 19,
     "metadata": {},
     "output_type": "execute_result"
    }
   ],
   "source": [
    "Grocerypivot=pd.pivot_table(data=df5,index=['Channel'],columns=['Region'],values=['Grocery'],aggfunc=['sum'])\n",
    "Grocerypivot"
   ]
  },
  {
   "cell_type": "code",
   "execution_count": 20,
   "id": "ea3a020e",
   "metadata": {},
   "outputs": [
    {
     "data": {
      "text/html": [
       "<div>\n",
       "<style scoped>\n",
       "    .dataframe tbody tr th:only-of-type {\n",
       "        vertical-align: middle;\n",
       "    }\n",
       "\n",
       "    .dataframe tbody tr th {\n",
       "        vertical-align: top;\n",
       "    }\n",
       "\n",
       "    .dataframe thead tr th {\n",
       "        text-align: left;\n",
       "    }\n",
       "\n",
       "    .dataframe thead tr:last-of-type th {\n",
       "        text-align: right;\n",
       "    }\n",
       "</style>\n",
       "<table border=\"1\" class=\"dataframe\">\n",
       "  <thead>\n",
       "    <tr>\n",
       "      <th></th>\n",
       "      <th colspan=\"3\" halign=\"left\">sum</th>\n",
       "    </tr>\n",
       "    <tr>\n",
       "      <th></th>\n",
       "      <th colspan=\"3\" halign=\"left\">Detergents_Paper</th>\n",
       "    </tr>\n",
       "    <tr>\n",
       "      <th>Region</th>\n",
       "      <th>Lisbon</th>\n",
       "      <th>Oporto</th>\n",
       "      <th>Other</th>\n",
       "    </tr>\n",
       "    <tr>\n",
       "      <th>Channel</th>\n",
       "      <th></th>\n",
       "      <th></th>\n",
       "      <th></th>\n",
       "    </tr>\n",
       "  </thead>\n",
       "  <tbody>\n",
       "    <tr>\n",
       "      <th>Hotel</th>\n",
       "      <td>56081</td>\n",
       "      <td>13516</td>\n",
       "      <td>165990</td>\n",
       "    </tr>\n",
       "    <tr>\n",
       "      <th>Retail</th>\n",
       "      <td>148055</td>\n",
       "      <td>159795</td>\n",
       "      <td>724420</td>\n",
       "    </tr>\n",
       "  </tbody>\n",
       "</table>\n",
       "</div>"
      ],
      "text/plain": [
       "                     sum                \n",
       "        Detergents_Paper                \n",
       "Region            Lisbon  Oporto   Other\n",
       "Channel                                 \n",
       "Hotel              56081   13516  165990\n",
       "Retail            148055  159795  724420"
      ]
     },
     "execution_count": 20,
     "metadata": {},
     "output_type": "execute_result"
    }
   ],
   "source": [
    "DetergentsPaperpivot=pd.pivot_table(data=df5,index=['Channel'],columns=['Region'],values=['Detergents_Paper'],aggfunc=['sum'])\n",
    "DetergentsPaperpivot"
   ]
  },
  {
   "cell_type": "code",
   "execution_count": 21,
   "id": "d6837570",
   "metadata": {},
   "outputs": [
    {
     "data": {
      "text/html": [
       "<div>\n",
       "<style scoped>\n",
       "    .dataframe tbody tr th:only-of-type {\n",
       "        vertical-align: middle;\n",
       "    }\n",
       "\n",
       "    .dataframe tbody tr th {\n",
       "        vertical-align: top;\n",
       "    }\n",
       "\n",
       "    .dataframe thead tr th {\n",
       "        text-align: left;\n",
       "    }\n",
       "\n",
       "    .dataframe thead tr:last-of-type th {\n",
       "        text-align: right;\n",
       "    }\n",
       "</style>\n",
       "<table border=\"1\" class=\"dataframe\">\n",
       "  <thead>\n",
       "    <tr>\n",
       "      <th></th>\n",
       "      <th colspan=\"3\" halign=\"left\">sum</th>\n",
       "    </tr>\n",
       "    <tr>\n",
       "      <th></th>\n",
       "      <th colspan=\"3\" halign=\"left\">Delicatessen</th>\n",
       "    </tr>\n",
       "    <tr>\n",
       "      <th>Region</th>\n",
       "      <th>Lisbon</th>\n",
       "      <th>Oporto</th>\n",
       "      <th>Other</th>\n",
       "    </tr>\n",
       "    <tr>\n",
       "      <th>Channel</th>\n",
       "      <th></th>\n",
       "      <th></th>\n",
       "      <th></th>\n",
       "    </tr>\n",
       "  </thead>\n",
       "  <tbody>\n",
       "    <tr>\n",
       "      <th>Hotel</th>\n",
       "      <td>70632</td>\n",
       "      <td>30965</td>\n",
       "      <td>320358</td>\n",
       "    </tr>\n",
       "    <tr>\n",
       "      <th>Retail</th>\n",
       "      <td>33695</td>\n",
       "      <td>23541</td>\n",
       "      <td>191752</td>\n",
       "    </tr>\n",
       "  </tbody>\n",
       "</table>\n",
       "</div>"
      ],
      "text/plain": [
       "                 sum               \n",
       "        Delicatessen               \n",
       "Region        Lisbon Oporto   Other\n",
       "Channel                            \n",
       "Hotel          70632  30965  320358\n",
       "Retail         33695  23541  191752"
      ]
     },
     "execution_count": 21,
     "metadata": {},
     "output_type": "execute_result"
    }
   ],
   "source": [
    "Delicatessenpivot=pd.pivot_table(data=df5,index=['Channel'],columns=['Region'],values=['Delicatessen'],aggfunc=['sum'])\n",
    "Delicatessenpivot"
   ]
  },
  {
   "cell_type": "code",
   "execution_count": 22,
   "id": "67b74efc",
   "metadata": {},
   "outputs": [
    {
     "data": {
      "text/plain": [
       "Text(0.5, 1.0, 'Fresh')"
      ]
     },
     "execution_count": 22,
     "metadata": {},
     "output_type": "execute_result"
    },
    {
     "data": {
      "image/png": "[encoded data removed]",
      "text/plain": [
       "<Figure size 432x288 with 1 Axes>"
      ]
     },
     "metadata": {
      "needs_background": "light"
     },
     "output_type": "display_data"
    }
   ],
   "source": [
    "Freshpivot.plot(kind='bar')\n",
    "plt.legend(['Lisbon','Oporto','Other'])\n",
    "plt.title('Fresh')"
   ]
  },
  {
   "cell_type": "code",
   "execution_count": 23,
   "id": "8d6799cb",
   "metadata": {},
   "outputs": [
    {
     "data": {
      "text/plain": [
       "Text(0.5, 1.0, 'Milk')"
      ]
     },
     "execution_count": 23,
     "metadata": {},
     "output_type": "execute_result"
    },
    {
     "data": {
      "image/png": "[encoded data removed]",
      "text/plain": [
       "<Figure size 432x288 with 1 Axes>"
      ]
     },
     "metadata": {
      "needs_background": "light"
     },
     "output_type": "display_data"
    }
   ],
   "source": [
    "Milkpivot.plot(kind='bar')\n",
    "plt.legend(['Lisbon','Oporto','Other'])\n",
    "plt.title('Milk')"
   ]
  },
  {
   "cell_type": "code",
   "execution_count": 24,
   "id": "f0f7736b",
   "metadata": {},
   "outputs": [
    {
     "data": {
      "text/plain": [
       "Text(0.5, 1.0, 'Frozen')"
      ]
     },
     "execution_count": 24,
     "metadata": {},
     "output_type": "execute_result"
    },
    {
     "data": {
      "image/png": "[encoded data removed]",
      "text/plain": [
       "<Figure size 432x288 with 1 Axes>"
      ]
     },
     "metadata": {
      "needs_background": "light"
     },
     "output_type": "display_data"
    }
   ],
   "source": [
    "Frozenpivot.plot(kind='bar')\n",
    "plt.legend(['Lisbon','Oporto','Other'])\n",
    "plt.title('Frozen')"
   ]
  },
  {
   "cell_type": "code",
   "execution_count": 25,
   "id": "2ba3f91a",
   "metadata": {},
   "outputs": [
    {
     "data": {
      "text/plain": [
       "Text(0.5, 1.0, 'Grocery')"
      ]
     },
     "execution_count": 25,
     "metadata": {},
     "output_type": "execute_result"
    },
    {
     "data": {
      "image/png": "[encoded data removed]",
      "text/plain": [
       "<Figure size 432x288 with 1 Axes>"
      ]
     },
     "metadata": {
      "needs_background": "light"
     },
     "output_type": "display_data"
    }
   ],
   "source": [
    "Grocerypivot.plot(kind='bar')\n",
    "plt.legend(['Lisbon','Oporto','Other'])\n",
    "plt.title('Grocery')"
   ]
  },
  {
   "cell_type": "code",
   "execution_count": 26,
   "id": "45d4cc84",
   "metadata": {},
   "outputs": [
    {
     "data": {
      "text/plain": [
       "Text(0.5, 1.0, 'Detergents_Paper')"
      ]
     },
     "execution_count": 26,
     "metadata": {},
     "output_type": "execute_result"
    },
    {
     "data": {
      "image/png": "[encoded data removed]",
      "text/plain": [
       "<Figure size 432x288 with 1 Axes>"
      ]
     },
     "metadata": {
      "needs_background": "light"
     },
     "output_type": "display_data"
    }
   ],
   "source": [
    "DetergentsPaperpivot.plot(kind='bar')\n",
    "plt.legend(['Lisbon','Oporto','Other'])\n",
    "plt.title('Detergents_Paper')"
   ]
  },
  {
   "cell_type": "code",
   "execution_count": 27,
   "id": "c683e5bd",
   "metadata": {},
   "outputs": [
    {
     "data": {
      "text/plain": [
       "Text(0.5, 1.0, 'Delicatessen')"
      ]
     },
     "execution_count": 27,
     "metadata": {},
     "output_type": "execute_result"
    },
    {
     "data": {
      "image/png": "[encoded data removed]",
      "text/plain": [
       "<Figure size 432x288 with 1 Axes>"
      ]
     },
     "metadata": {
      "needs_background": "light"
     },
     "output_type": "display_data"
    }
   ],
   "source": [
    "Delicatessenpivot.plot(kind='bar')\n",
    "plt.legend(['Lisbon','Oporto','Other'])\n",
    "plt.title('Delicatessen')"
   ]
  },
  {
   "cell_type": "code",
   "execution_count": 28,
   "id": "40e9808e",
   "metadata": {},
   "outputs": [
    {
     "name": "stdout",
     "output_type": "stream",
     "text": [
      "Basis on above barplots we can find out below observations:\n",
      "1.On 'Fresh' item, Hotel channel spends highest amount in Other Region. Very less amount has spent in Lisbon region and Retail Channel.\n",
      "2.On 'Milk’ item, Other region spends more amount comparatively Lisbon & Oporto.Oporto region spends very less amount in Hotel channel for Milk item.\n",
      "3.Frozen variety have higher spent in Other region for Hotel channel. Oporto region spends very less amount in Retail channel\n",
      "for Frozen item.\n",
      "4.Grocery variety have highest spent in Retail channel and Other Region. Oporto region spends lesser amount\n",
      "in Hotel channel for Grocery.\n",
      "5.Detergents_Paper variety having higher spend in Other Region and Retail channel. Very less amount spent on Detergents_Paper\n",
      "in Oporto region and Hotel channel.\n",
      "6.On Delicatessen item, Hotel channel spends highest amount in Other region. Less amount has spent on Delicatessen item for\n",
      "both Hotel and Retail channel in Oporto Region.\n"
     ]
    }
   ],
   "source": [
    "print(\"Basis on above barplots we can find out below observations:\")\n",
    "print(\"1.On 'Fresh' item, Hotel channel spends highest amount in Other Region. Very less amount has spent in Lisbon region and Retail Channel.\")\n",
    "print(\"2.On 'Milk’ item, Other region spends more amount comparatively Lisbon & Oporto.Oporto region spends very less amount in Hotel channel for Milk item.\")\n",
    "print(\"3.Frozen variety have higher spent in Other region for Hotel channel. Oporto region spends very less amount in Retail channel\")\n",
    "print(\"for Frozen item.\")\n",
    "print(\"4.Grocery variety have highest spent in Retail channel and Other Region. Oporto region spends lesser amount\")\n",
    "print(\"in Hotel channel for Grocery.\")\n",
    "print(\"5.Detergents_Paper variety having higher spend in Other Region and Retail channel. Very less amount spent on Detergents_Paper\")\n",
    "print(\"in Oporto region and Hotel channel.\")\n",
    "print(\"6.On Delicatessen item, Hotel channel spends highest amount in Other region. Less amount has spent on Delicatessen item for\")\n",
    "print(\"both Hotel and Retail channel in Oporto Region.\")"
   ]
  },
  {
   "cell_type": "code",
   "execution_count": 29,
   "id": "875db90b",
   "metadata": {},
   "outputs": [
    {
     "data": {
      "text/plain": [
       "Fresh                2.56\n",
       "Milk                 4.05\n",
       "Grocery              3.59\n",
       "Frozen               5.91\n",
       "Detergents_Paper     3.63\n",
       "Delicatessen        11.15\n",
       "dtype: float64"
      ]
     },
     "execution_count": 29,
     "metadata": {},
     "output_type": "execute_result"
    }
   ],
   "source": [
    "#Code & Answer for question 1.3 - On the basis of a descriptive measure of variability, which item shows the most inconsistent behaviour? Which items show the least inconsistent behaviour?\n",
    "df4.skew().round(2)"
   ]
  },
  {
   "cell_type": "code",
   "execution_count": 30,
   "id": "e4bb3384",
   "metadata": {},
   "outputs": [
    {
     "data": {
      "text/html": [
       "<div>\n",
       "<style scoped>\n",
       "    .dataframe tbody tr th:only-of-type {\n",
       "        vertical-align: middle;\n",
       "    }\n",
       "\n",
       "    .dataframe tbody tr th {\n",
       "        vertical-align: top;\n",
       "    }\n",
       "\n",
       "    .dataframe thead th {\n",
       "        text-align: right;\n",
       "    }\n",
       "</style>\n",
       "<table border=\"1\" class=\"dataframe\">\n",
       "  <thead>\n",
       "    <tr style=\"text-align: right;\">\n",
       "      <th></th>\n",
       "      <th>count</th>\n",
       "      <th>mean</th>\n",
       "      <th>std</th>\n",
       "      <th>min</th>\n",
       "      <th>25%</th>\n",
       "      <th>50%</th>\n",
       "      <th>75%</th>\n",
       "      <th>max</th>\n",
       "    </tr>\n",
       "  </thead>\n",
       "  <tbody>\n",
       "    <tr>\n",
       "      <th>Fresh</th>\n",
       "      <td>440.0</td>\n",
       "      <td>12000.297727</td>\n",
       "      <td>12647.328865</td>\n",
       "      <td>3.0</td>\n",
       "      <td>3127.75</td>\n",
       "      <td>8504.0</td>\n",
       "      <td>16933.75</td>\n",
       "      <td>112151.0</td>\n",
       "    </tr>\n",
       "    <tr>\n",
       "      <th>Milk</th>\n",
       "      <td>440.0</td>\n",
       "      <td>5796.265909</td>\n",
       "      <td>7380.377175</td>\n",
       "      <td>55.0</td>\n",
       "      <td>1533.00</td>\n",
       "      <td>3627.0</td>\n",
       "      <td>7190.25</td>\n",
       "      <td>73498.0</td>\n",
       "    </tr>\n",
       "    <tr>\n",
       "      <th>Grocery</th>\n",
       "      <td>440.0</td>\n",
       "      <td>7951.277273</td>\n",
       "      <td>9503.162829</td>\n",
       "      <td>3.0</td>\n",
       "      <td>2153.00</td>\n",
       "      <td>4755.5</td>\n",
       "      <td>10655.75</td>\n",
       "      <td>92780.0</td>\n",
       "    </tr>\n",
       "    <tr>\n",
       "      <th>Frozen</th>\n",
       "      <td>440.0</td>\n",
       "      <td>3071.931818</td>\n",
       "      <td>4854.673333</td>\n",
       "      <td>25.0</td>\n",
       "      <td>742.25</td>\n",
       "      <td>1526.0</td>\n",
       "      <td>3554.25</td>\n",
       "      <td>60869.0</td>\n",
       "    </tr>\n",
       "    <tr>\n",
       "      <th>Detergents_Paper</th>\n",
       "      <td>440.0</td>\n",
       "      <td>2881.493182</td>\n",
       "      <td>4767.854448</td>\n",
       "      <td>3.0</td>\n",
       "      <td>256.75</td>\n",
       "      <td>816.5</td>\n",
       "      <td>3922.00</td>\n",
       "      <td>40827.0</td>\n",
       "    </tr>\n",
       "    <tr>\n",
       "      <th>Delicatessen</th>\n",
       "      <td>440.0</td>\n",
       "      <td>1524.870455</td>\n",
       "      <td>2820.105937</td>\n",
       "      <td>3.0</td>\n",
       "      <td>408.25</td>\n",
       "      <td>965.5</td>\n",
       "      <td>1820.25</td>\n",
       "      <td>47943.0</td>\n",
       "    </tr>\n",
       "  </tbody>\n",
       "</table>\n",
       "</div>"
      ],
      "text/plain": [
       "                  count          mean           std   min      25%     50%  \\\n",
       "Fresh             440.0  12000.297727  12647.328865   3.0  3127.75  8504.0   \n",
       "Milk              440.0   5796.265909   7380.377175  55.0  1533.00  3627.0   \n",
       "Grocery           440.0   7951.277273   9503.162829   3.0  2153.00  4755.5   \n",
       "Frozen            440.0   3071.931818   4854.673333  25.0   742.25  1526.0   \n",
       "Detergents_Paper  440.0   2881.493182   4767.854448   3.0   256.75   816.5   \n",
       "Delicatessen      440.0   1524.870455   2820.105937   3.0   408.25   965.5   \n",
       "\n",
       "                       75%       max  \n",
       "Fresh             16933.75  112151.0  \n",
       "Milk               7190.25   73498.0  \n",
       "Grocery           10655.75   92780.0  \n",
       "Frozen             3554.25   60869.0  \n",
       "Detergents_Paper   3922.00   40827.0  \n",
       "Delicatessen       1820.25   47943.0  "
      ]
     },
     "execution_count": 30,
     "metadata": {},
     "output_type": "execute_result"
    }
   ],
   "source": [
    "df4.describe().T"
   ]
  },
  {
   "cell_type": "code",
   "execution_count": 31,
   "id": "f71e173c",
   "metadata": {},
   "outputs": [
    {
     "name": "stdout",
     "output_type": "stream",
     "text": [
      "Basis on Skewness and describe function, we can find out below details for each variety of product:\n",
      "\n",
      "* Fresh item has (Mean is 12000.297727, Standard Deviation is 12647.328865 with min value 3 and max value is 112151.0.\n",
      "also, values for Q1(25% is 3127.75), Q2 (50% is 3627.0) & Q3 (75% is 16933.75).\n",
      "IQR is Q3-Q1 = 13806.0 and Range= 112148\n",
      "\n",
      "* Milk item has (Mean is 5796.265909, Standard Deviation is 7380.377175 with min value 55 and max value is 73498.0.\n",
      "also, values for Q1(25% is 1533.00), Q2 (50% is 8504.0) & Q3 (75% is 7190.25).\n",
      "IQR is Q3-Q1 = 5657.25 and Range= 73443.0\n",
      "\n",
      "* Grocery item has (Mean is 7951.277273, Standard Deviation is 9503.162829 with min value 3 and max value is 92780.0.\n",
      "also, values for Q1(25% is 2153.00), Q2 (50% is 4755.5) & Q3 (75% is 10655.75).\n",
      "IQR is Q3-Q1 = 8502.75 and Range= 92777.0\n",
      "\n",
      "* Frozen item has (Mean is 3071.931818, Standard Deviation is 4854.673333 with min value 25 and max value is 60869.0.\n",
      "also, values for Q1(25% is 742.25), Q2 (50% is 1526.0) & Q3 (75% is 3554.25).\n",
      "IQR is Q3-Q1 = 2812.0 and Range= 60844.0\n",
      "\n",
      "* Detergents_Paper item has (Mean is 2881.493182, Standard Deviation is 4767.854448 with min value 3 and max value is 40827.0.\n",
      "also, values for Q1(25% is 256.75), Q2 (50% is 816.5) & Q3 (75% is 3922.00).\n",
      "IQR is Q3-Q1 = 3665.25 and Range= 40824.0\n",
      "\n",
      "* Delicatessen item has (Mean is 1524.870455, Standard Deviation is 2820.105937 with min value 3 and max value is 47943.0.\n",
      "also, values for Q1(25% is 408.25), Q2 (50% is 965.5) & Q3 (75% is 1820.25).\n",
      "IQR is Q3-Q1 = 1412.0 and Range= 47940.0\n",
      "\n",
      "Coefficient of Variation for Fresh is 1.05\n",
      "Coefficient of Variation for Milk is 1.27\n",
      "Coefficient of Variation for Grocery is 1.2\n",
      "Coefficient of Variation for Frozen is 1.58\n",
      "Coefficient of Variation for Detergents_Paper is 1.65\n",
      "Coefficient of Variation for Delicatessen is 1.85\n",
      "\n",
      "Final Outcome :\n",
      "Using Coefficient of Variation we can find out the least value for Category “Fresh” is (1.05) and\n",
      "highest value for Category “Delicatessen” is (1.84).\n",
      "Hence, from the given data it is clear that the most inconsistent behaviour shown by item – Delicatessen\n",
      "And least inconsistent behaviour shown by item – Fresh.\n"
     ]
    }
   ],
   "source": [
    "print(\"Basis on Skewness and describe function, we can find out below details for each variety of product:\")\n",
    "print('')\n",
    "print(\"* Fresh item has (Mean is 12000.297727, Standard Deviation is 12647.328865 with min value 3 and max value is 112151.0.\")\n",
    "print(\"also, values for Q1(25% is 3127.75), Q2 (50% is 3627.0) & Q3 (75% is 16933.75).\")\n",
    "print(\"IQR is Q3-Q1 =\",16933.75-3127.75, \"and Range=\", 112151-3)\n",
    "print('')\n",
    "print(\"* Milk item has (Mean is 5796.265909, Standard Deviation is 7380.377175 with min value 55 and max value is 73498.0.\")\n",
    "print(\"also, values for Q1(25% is 1533.00), Q2 (50% is 8504.0) & Q3 (75% is 7190.25).\")\n",
    "print(\"IQR is Q3-Q1 =\",7190.25-1533.0, \"and Range=\",73498.0-55.0)\n",
    "print('')\n",
    "print(\"* Grocery item has (Mean is 7951.277273, Standard Deviation is 9503.162829 with min value 3 and max value is 92780.0.\")\n",
    "print(\"also, values for Q1(25% is 2153.00), Q2 (50% is 4755.5) & Q3 (75% is 10655.75).\")\n",
    "print(\"IQR is Q3-Q1 =\",10655.75-2153.00, \"and Range=\",92780.0-3.0)\n",
    "print('')\n",
    "print(\"* Frozen item has (Mean is 3071.931818, Standard Deviation is 4854.673333 with min value 25 and max value is 60869.0.\")\n",
    "print(\"also, values for Q1(25% is 742.25), Q2 (50% is 1526.0) & Q3 (75% is 3554.25).\")\n",
    "print(\"IQR is Q3-Q1 =\",3554.25-742.25, \"and Range=\",60869.0-25.0)\n",
    "print('')\n",
    "print(\"* Detergents_Paper item has (Mean is 2881.493182, Standard Deviation is 4767.854448 with min value 3 and max value is 40827.0.\")\n",
    "print(\"also, values for Q1(25% is 256.75), Q2 (50% is 816.5) & Q3 (75% is 3922.00).\")\n",
    "print(\"IQR is Q3-Q1 =\",3922.00-256.75, \"and Range=\",40827.0-3.0)\n",
    "print('')\n",
    "print(\"* Delicatessen item has (Mean is 1524.870455, Standard Deviation is 2820.105937 with min value 3 and max value is 47943.0.\")\n",
    "print(\"also, values for Q1(25% is 408.25), Q2 (50% is 965.5) & Q3 (75% is 1820.25).\")\n",
    "print(\"IQR is Q3-Q1 =\",1820.25-408.25, \"and Range=\",47943.0-3.0)\n",
    "print('')\n",
    "print(\"Coefficient of Variation for Fresh is\",round(12647.328865/12000.297727,ndigits=2))\n",
    "print(\"Coefficient of Variation for Milk is\",round(7380.377175/5796.265909,ndigits=2))\n",
    "print(\"Coefficient of Variation for Grocery is\",round(9503.162829/7951.277273,ndigits=2))\n",
    "print(\"Coefficient of Variation for Frozen is\",round(4854.673333/3071.931818,ndigits=2))\n",
    "print(\"Coefficient of Variation for Detergents_Paper is\",round(4767.854448/2881.493182,ndigits=2))\n",
    "print(\"Coefficient of Variation for Delicatessen is\",round(2820.105937/1524.870455,ndigits=2))\n",
    "print('')\n",
    "print(\"Final Outcome :\")\n",
    "print(\"Using Coefficient of Variation we can find out the least value for Category “Fresh” is (1.05) and\")\n",
    "print(\"highest value for Category “Delicatessen” is (1.84).\")\n",
    "print(\"Hence, from the given data it is clear that the most inconsistent behaviour shown by item – Delicatessen\")\n",
    "print(\"And least inconsistent behaviour shown by item – Fresh.\")"
   ]
  },
  {
   "cell_type": "code",
   "execution_count": 32,
   "id": "222d0f0f",
   "metadata": {},
   "outputs": [
    {
     "data": {
      "image/png": "[encoded data removed]",
      "text/plain": [
       "<Figure size 1080x720 with 1 Axes>"
      ]
     },
     "metadata": {
      "needs_background": "light"
     },
     "output_type": "display_data"
    },
    {
     "data": {
      "image/png": "[encoded data removed]",
      "text/plain": [
       "<Figure size 1080x720 with 1 Axes>"
      ]
     },
     "metadata": {
      "needs_background": "light"
     },
     "output_type": "display_data"
    },
    {
     "data": {
      "image/png": "[encoded data removed]",
      "text/plain": [
       "<Figure size 1080x720 with 1 Axes>"
      ]
     },
     "metadata": {
      "needs_background": "light"
     },
     "output_type": "display_data"
    },
    {
     "data": {
      "image/png": "[encoded data removed]",
      "text/plain": [
       "<Figure size 1080x720 with 1 Axes>"
      ]
     },
     "metadata": {
      "needs_background": "light"
     },
     "output_type": "display_data"
    },
    {
     "data": {
      "image/png": "[encoded data removed]",
      "text/plain": [
       "<Figure size 1080x720 with 1 Axes>"
      ]
     },
     "metadata": {
      "needs_background": "light"
     },
     "output_type": "display_data"
    },
    {
     "data": {
      "image/png": "[encoded data removed]",
      "text/plain": [
       "<Figure size 1080x720 with 1 Axes>"
      ]
     },
     "metadata": {
      "needs_background": "light"
     },
     "output_type": "display_data"
    },
    {
     "name": "stdout",
     "output_type": "stream",
     "text": [
      "\n",
      "Observation :\n",
      "Basis on above boxplots we can find out that each category(Fresh,Milk,Grocery,Frozen,Detergents_Paper & Delicatessen)\n",
      "having an outliers.\n"
     ]
    }
   ],
   "source": [
    "# Code for question 1.4 -Are there any outliers in the data? Back up your answer with a suitable plot/technique with the help of detailed comments\n",
    "plt.figure(figsize=(15,10))\n",
    "plt.subplot(6,1,1)\n",
    "sns.boxplot(df4['Fresh'])\n",
    "\n",
    "plt.figure(figsize=(15,10))\n",
    "plt.subplot(6,1,2)\n",
    "sns.boxplot(df4['Milk'])\n",
    "\n",
    "plt.figure(figsize=(15,10))\n",
    "plt.subplot(6,1,3)\n",
    "sns.boxplot(df4['Grocery'])\n",
    "\n",
    "plt.figure(figsize=(15,10))\n",
    "plt.subplot(6,1,4)\n",
    "sns.boxplot(df4['Frozen'])\n",
    "\n",
    "plt.figure(figsize=(15,10))\n",
    "plt.subplot(6,1,5)\n",
    "sns.boxplot(df4['Detergents_Paper'])\n",
    "\n",
    "plt.figure(figsize=(15,10))\n",
    "plt.subplot(6,1,6)\n",
    "sns.boxplot(df4['Delicatessen'])\n",
    "plt.show()\n",
    "\n",
    "print('')\n",
    "print(\"Observation :\")\n",
    "print(\"Basis on above boxplots we can find out that each category(Fresh,Milk,Grocery,Frozen,Detergents_Paper & Delicatessen)\")\n",
    "print(\"having an outliers.\")"
   ]
  },
  {
   "cell_type": "code",
   "execution_count": 33,
   "id": "8f493204",
   "metadata": {},
   "outputs": [
    {
     "name": "stdout",
     "output_type": "stream",
     "text": [
      "-As per the analysis, We can find out from (Calculation of CV) that there are inconsistencies in spending of different items,\n",
      "which needs to be minimized.\n",
      "-The spending of Hotel and Retail channel are different which should be more or less equal.\n",
      "-Spent should equal for different regions.\n",
      "-Need to find out the reasons and focus on that as to why there is inconsistency in Delicatessen variety.\n",
      "-Apart from item 'Fresh' we can focus on other items so that we can minimize the inconsistency and can increase spent of other varieties along with different regions.\n",
      "-We can focus on item 'Detergents_Paper' as why they are having very less spending in Hotel Channel.\n"
     ]
    }
   ],
   "source": [
    "# Answer for question-1.5 - On the basis of your analysis, what are your recommendations for the business? How can your analysis help the business to solve its problem? Answer from the business perspective\n",
    "print(\"-As per the analysis, We can find out from (Calculation of CV) that there are inconsistencies in spending of different items,\")\n",
    "print(\"which needs to be minimized.\")\n",
    "print(\"-The spending of Hotel and Retail channel are different which should be more or less equal.\")\n",
    "print(\"-Spent should equal for different regions.\")\n",
    "print(\"-Need to find out the reasons and focus on that as to why there is inconsistency in Delicatessen variety.\")\n",
    "print(\"-Apart from item 'Fresh' we can focus on other items so that we can minimize the inconsistency and can increase spent of other varieties along with different regions.\")\n",
    "print(\"-We can focus on item 'Detergents_Paper' as why they are having very less spending in Hotel Channel.\")"
   ]
  },
  {
   "cell_type": "code",
   "execution_count": 34,
   "id": "09cca90a",
   "metadata": {},
   "outputs": [],
   "source": [
    "#(\"STARTING NEXT QUESTION WHICH IS - PROBLEM 2 - Answers\")"
   ]
  },
  {
   "cell_type": "code",
   "execution_count": 35,
   "id": "88ca8b95",
   "metadata": {},
   "outputs": [
    {
     "data": {
      "text/html": [
       "<div>\n",
       "<style scoped>\n",
       "    .dataframe tbody tr th:only-of-type {\n",
       "        vertical-align: middle;\n",
       "    }\n",
       "\n",
       "    .dataframe tbody tr th {\n",
       "        vertical-align: top;\n",
       "    }\n",
       "\n",
       "    .dataframe thead th {\n",
       "        text-align: right;\n",
       "    }\n",
       "</style>\n",
       "<table border=\"1\" class=\"dataframe\">\n",
       "  <thead>\n",
       "    <tr style=\"text-align: right;\">\n",
       "      <th></th>\n",
       "      <th>ID</th>\n",
       "      <th>Gender</th>\n",
       "      <th>Age</th>\n",
       "      <th>Class</th>\n",
       "      <th>Major</th>\n",
       "      <th>Grad Intention</th>\n",
       "      <th>GPA</th>\n",
       "      <th>Employment</th>\n",
       "      <th>Salary</th>\n",
       "      <th>Social Networking</th>\n",
       "      <th>Satisfaction</th>\n",
       "      <th>Spending</th>\n",
       "      <th>Computer</th>\n",
       "      <th>Text Messages</th>\n",
       "    </tr>\n",
       "  </thead>\n",
       "  <tbody>\n",
       "    <tr>\n",
       "      <th>0</th>\n",
       "      <td>1</td>\n",
       "      <td>Female</td>\n",
       "      <td>20</td>\n",
       "      <td>Junior</td>\n",
       "      <td>Other</td>\n",
       "      <td>Yes</td>\n",
       "      <td>2.9</td>\n",
       "      <td>Full-Time</td>\n",
       "      <td>50.0</td>\n",
       "      <td>1</td>\n",
       "      <td>3</td>\n",
       "      <td>350</td>\n",
       "      <td>Laptop</td>\n",
       "      <td>200</td>\n",
       "    </tr>\n",
       "    <tr>\n",
       "      <th>1</th>\n",
       "      <td>2</td>\n",
       "      <td>Male</td>\n",
       "      <td>23</td>\n",
       "      <td>Senior</td>\n",
       "      <td>Management</td>\n",
       "      <td>Yes</td>\n",
       "      <td>3.6</td>\n",
       "      <td>Part-Time</td>\n",
       "      <td>25.0</td>\n",
       "      <td>1</td>\n",
       "      <td>4</td>\n",
       "      <td>360</td>\n",
       "      <td>Laptop</td>\n",
       "      <td>50</td>\n",
       "    </tr>\n",
       "    <tr>\n",
       "      <th>2</th>\n",
       "      <td>3</td>\n",
       "      <td>Male</td>\n",
       "      <td>21</td>\n",
       "      <td>Junior</td>\n",
       "      <td>Other</td>\n",
       "      <td>Yes</td>\n",
       "      <td>2.5</td>\n",
       "      <td>Part-Time</td>\n",
       "      <td>45.0</td>\n",
       "      <td>2</td>\n",
       "      <td>4</td>\n",
       "      <td>600</td>\n",
       "      <td>Laptop</td>\n",
       "      <td>200</td>\n",
       "    </tr>\n",
       "    <tr>\n",
       "      <th>3</th>\n",
       "      <td>4</td>\n",
       "      <td>Male</td>\n",
       "      <td>21</td>\n",
       "      <td>Junior</td>\n",
       "      <td>CIS</td>\n",
       "      <td>Yes</td>\n",
       "      <td>2.5</td>\n",
       "      <td>Full-Time</td>\n",
       "      <td>40.0</td>\n",
       "      <td>4</td>\n",
       "      <td>6</td>\n",
       "      <td>600</td>\n",
       "      <td>Laptop</td>\n",
       "      <td>250</td>\n",
       "    </tr>\n",
       "    <tr>\n",
       "      <th>4</th>\n",
       "      <td>5</td>\n",
       "      <td>Male</td>\n",
       "      <td>23</td>\n",
       "      <td>Senior</td>\n",
       "      <td>Other</td>\n",
       "      <td>Undecided</td>\n",
       "      <td>2.8</td>\n",
       "      <td>Unemployed</td>\n",
       "      <td>40.0</td>\n",
       "      <td>2</td>\n",
       "      <td>4</td>\n",
       "      <td>500</td>\n",
       "      <td>Laptop</td>\n",
       "      <td>100</td>\n",
       "    </tr>\n",
       "  </tbody>\n",
       "</table>\n",
       "</div>"
      ],
      "text/plain": [
       "   ID  Gender  Age   Class       Major Grad Intention  GPA  Employment  \\\n",
       "0   1  Female   20  Junior       Other            Yes  2.9   Full-Time   \n",
       "1   2    Male   23  Senior  Management            Yes  3.6   Part-Time   \n",
       "2   3    Male   21  Junior       Other            Yes  2.5   Part-Time   \n",
       "3   4    Male   21  Junior         CIS            Yes  2.5   Full-Time   \n",
       "4   5    Male   23  Senior       Other      Undecided  2.8  Unemployed   \n",
       "\n",
       "   Salary  Social Networking  Satisfaction  Spending Computer  Text Messages  \n",
       "0    50.0                  1             3       350   Laptop            200  \n",
       "1    25.0                  1             4       360   Laptop             50  \n",
       "2    45.0                  2             4       600   Laptop            200  \n",
       "3    40.0                  4             6       600   Laptop            250  \n",
       "4    40.0                  2             4       500   Laptop            100  "
      ]
     },
     "execution_count": 35,
     "metadata": {},
     "output_type": "execute_result"
    }
   ],
   "source": [
    "df1=pd.read_csv(\"C:/Users/Rajashri/Downloads/Survey-1.csv\")\n",
    "df1.head(5)"
   ]
  },
  {
   "cell_type": "code",
   "execution_count": 36,
   "id": "d5b2e220",
   "metadata": {},
   "outputs": [
    {
     "name": "stdout",
     "output_type": "stream",
     "text": [
      "2.1.1-contingency table for Gender & Major-\n"
     ]
    },
    {
     "data": {
      "text/html": [
       "<div>\n",
       "<style scoped>\n",
       "    .dataframe tbody tr th:only-of-type {\n",
       "        vertical-align: middle;\n",
       "    }\n",
       "\n",
       "    .dataframe tbody tr th {\n",
       "        vertical-align: top;\n",
       "    }\n",
       "\n",
       "    .dataframe thead th {\n",
       "        text-align: right;\n",
       "    }\n",
       "</style>\n",
       "<table border=\"1\" class=\"dataframe\">\n",
       "  <thead>\n",
       "    <tr style=\"text-align: right;\">\n",
       "      <th>Major</th>\n",
       "      <th>Accounting</th>\n",
       "      <th>CIS</th>\n",
       "      <th>Economics/Finance</th>\n",
       "      <th>International Business</th>\n",
       "      <th>Management</th>\n",
       "      <th>Other</th>\n",
       "      <th>Retailing/Marketing</th>\n",
       "      <th>Undecided</th>\n",
       "    </tr>\n",
       "    <tr>\n",
       "      <th>Gender</th>\n",
       "      <th></th>\n",
       "      <th></th>\n",
       "      <th></th>\n",
       "      <th></th>\n",
       "      <th></th>\n",
       "      <th></th>\n",
       "      <th></th>\n",
       "      <th></th>\n",
       "    </tr>\n",
       "  </thead>\n",
       "  <tbody>\n",
       "    <tr>\n",
       "      <th>Female</th>\n",
       "      <td>3</td>\n",
       "      <td>3</td>\n",
       "      <td>7</td>\n",
       "      <td>4</td>\n",
       "      <td>4</td>\n",
       "      <td>3</td>\n",
       "      <td>9</td>\n",
       "      <td>0</td>\n",
       "    </tr>\n",
       "    <tr>\n",
       "      <th>Male</th>\n",
       "      <td>4</td>\n",
       "      <td>1</td>\n",
       "      <td>4</td>\n",
       "      <td>2</td>\n",
       "      <td>6</td>\n",
       "      <td>4</td>\n",
       "      <td>5</td>\n",
       "      <td>3</td>\n",
       "    </tr>\n",
       "  </tbody>\n",
       "</table>\n",
       "</div>"
      ],
      "text/plain": [
       "Major   Accounting  CIS  Economics/Finance  International Business  \\\n",
       "Gender                                                               \n",
       "Female           3    3                  7                       4   \n",
       "Male             4    1                  4                       2   \n",
       "\n",
       "Major   Management  Other  Retailing/Marketing  Undecided  \n",
       "Gender                                                     \n",
       "Female           4      3                    9          0  \n",
       "Male             6      4                    5          3  "
      ]
     },
     "execution_count": 36,
     "metadata": {},
     "output_type": "execute_result"
    }
   ],
   "source": [
    "#Answer for 2.1.1. Gender and Major\n",
    "print(\"2.1.1-contingency table for Gender & Major-\")\n",
    "GM=pd.crosstab(df1[\"Gender\"],df1[\"Major\"])\n",
    "GM"
   ]
  },
  {
   "cell_type": "code",
   "execution_count": 37,
   "id": "105a77e9",
   "metadata": {},
   "outputs": [
    {
     "name": "stdout",
     "output_type": "stream",
     "text": [
      "2.1.2-contingency table for Gender & Grad Intention-\n"
     ]
    },
    {
     "data": {
      "text/html": [
       "<div>\n",
       "<style scoped>\n",
       "    .dataframe tbody tr th:only-of-type {\n",
       "        vertical-align: middle;\n",
       "    }\n",
       "\n",
       "    .dataframe tbody tr th {\n",
       "        vertical-align: top;\n",
       "    }\n",
       "\n",
       "    .dataframe thead th {\n",
       "        text-align: right;\n",
       "    }\n",
       "</style>\n",
       "<table border=\"1\" class=\"dataframe\">\n",
       "  <thead>\n",
       "    <tr style=\"text-align: right;\">\n",
       "      <th>Grad Intention</th>\n",
       "      <th>No</th>\n",
       "      <th>Undecided</th>\n",
       "      <th>Yes</th>\n",
       "    </tr>\n",
       "    <tr>\n",
       "      <th>Gender</th>\n",
       "      <th></th>\n",
       "      <th></th>\n",
       "      <th></th>\n",
       "    </tr>\n",
       "  </thead>\n",
       "  <tbody>\n",
       "    <tr>\n",
       "      <th>Female</th>\n",
       "      <td>9</td>\n",
       "      <td>13</td>\n",
       "      <td>11</td>\n",
       "    </tr>\n",
       "    <tr>\n",
       "      <th>Male</th>\n",
       "      <td>3</td>\n",
       "      <td>9</td>\n",
       "      <td>17</td>\n",
       "    </tr>\n",
       "  </tbody>\n",
       "</table>\n",
       "</div>"
      ],
      "text/plain": [
       "Grad Intention  No  Undecided  Yes\n",
       "Gender                            \n",
       "Female           9         13   11\n",
       "Male             3          9   17"
      ]
     },
     "execution_count": 37,
     "metadata": {},
     "output_type": "execute_result"
    }
   ],
   "source": [
    "#Answer for 2.1.2. Gender and Grad Intention\n",
    "print(\"2.1.2-contingency table for Gender & Grad Intention-\")\n",
    "GGI=pd.crosstab(df1[\"Gender\"],df1[\"Grad Intention\"])\n",
    "GGI"
   ]
  },
  {
   "cell_type": "code",
   "execution_count": 38,
   "id": "b8eb8386",
   "metadata": {},
   "outputs": [
    {
     "name": "stdout",
     "output_type": "stream",
     "text": [
      "2.1.3-contingency table for Gender & Employment-\n"
     ]
    },
    {
     "data": {
      "text/html": [
       "<div>\n",
       "<style scoped>\n",
       "    .dataframe tbody tr th:only-of-type {\n",
       "        vertical-align: middle;\n",
       "    }\n",
       "\n",
       "    .dataframe tbody tr th {\n",
       "        vertical-align: top;\n",
       "    }\n",
       "\n",
       "    .dataframe thead th {\n",
       "        text-align: right;\n",
       "    }\n",
       "</style>\n",
       "<table border=\"1\" class=\"dataframe\">\n",
       "  <thead>\n",
       "    <tr style=\"text-align: right;\">\n",
       "      <th>Employment</th>\n",
       "      <th>Full-Time</th>\n",
       "      <th>Part-Time</th>\n",
       "      <th>Unemployed</th>\n",
       "    </tr>\n",
       "    <tr>\n",
       "      <th>Gender</th>\n",
       "      <th></th>\n",
       "      <th></th>\n",
       "      <th></th>\n",
       "    </tr>\n",
       "  </thead>\n",
       "  <tbody>\n",
       "    <tr>\n",
       "      <th>Female</th>\n",
       "      <td>3</td>\n",
       "      <td>24</td>\n",
       "      <td>6</td>\n",
       "    </tr>\n",
       "    <tr>\n",
       "      <th>Male</th>\n",
       "      <td>7</td>\n",
       "      <td>19</td>\n",
       "      <td>3</td>\n",
       "    </tr>\n",
       "  </tbody>\n",
       "</table>\n",
       "</div>"
      ],
      "text/plain": [
       "Employment  Full-Time  Part-Time  Unemployed\n",
       "Gender                                      \n",
       "Female              3         24           6\n",
       "Male                7         19           3"
      ]
     },
     "execution_count": 38,
     "metadata": {},
     "output_type": "execute_result"
    }
   ],
   "source": [
    "#Answer for 2.1.3. Gender and Employment\n",
    "print(\"2.1.3-contingency table for Gender & Employment-\")\n",
    "GE=pd.crosstab(df1[\"Gender\"],df1[\"Employment\"])\n",
    "GE"
   ]
  },
  {
   "cell_type": "code",
   "execution_count": 39,
   "id": "fde9220e",
   "metadata": {},
   "outputs": [
    {
     "name": "stdout",
     "output_type": "stream",
     "text": [
      "2.1.4-contingency table for Gender & Computer-\n"
     ]
    },
    {
     "data": {
      "text/html": [
       "<div>\n",
       "<style scoped>\n",
       "    .dataframe tbody tr th:only-of-type {\n",
       "        vertical-align: middle;\n",
       "    }\n",
       "\n",
       "    .dataframe tbody tr th {\n",
       "        vertical-align: top;\n",
       "    }\n",
       "\n",
       "    .dataframe thead th {\n",
       "        text-align: right;\n",
       "    }\n",
       "</style>\n",
       "<table border=\"1\" class=\"dataframe\">\n",
       "  <thead>\n",
       "    <tr style=\"text-align: right;\">\n",
       "      <th>Computer</th>\n",
       "      <th>Desktop</th>\n",
       "      <th>Laptop</th>\n",
       "      <th>Tablet</th>\n",
       "    </tr>\n",
       "    <tr>\n",
       "      <th>Gender</th>\n",
       "      <th></th>\n",
       "      <th></th>\n",
       "      <th></th>\n",
       "    </tr>\n",
       "  </thead>\n",
       "  <tbody>\n",
       "    <tr>\n",
       "      <th>Female</th>\n",
       "      <td>2</td>\n",
       "      <td>29</td>\n",
       "      <td>2</td>\n",
       "    </tr>\n",
       "    <tr>\n",
       "      <th>Male</th>\n",
       "      <td>3</td>\n",
       "      <td>26</td>\n",
       "      <td>0</td>\n",
       "    </tr>\n",
       "  </tbody>\n",
       "</table>\n",
       "</div>"
      ],
      "text/plain": [
       "Computer  Desktop  Laptop  Tablet\n",
       "Gender                           \n",
       "Female          2      29       2\n",
       "Male            3      26       0"
      ]
     },
     "execution_count": 39,
     "metadata": {},
     "output_type": "execute_result"
    }
   ],
   "source": [
    "#Answer for 2.1.4. Gender and Computer\n",
    "print(\"2.1.4-contingency table for Gender & Computer-\")\n",
    "GC=pd.crosstab(df1[\"Gender\"],df1[\"Computer\"])\n",
    "GC"
   ]
  },
  {
   "cell_type": "code",
   "execution_count": 40,
   "id": "a75880e4",
   "metadata": {},
   "outputs": [
    {
     "name": "stdout",
     "output_type": "stream",
     "text": [
      "Female    33\n",
      "Male      29\n",
      "Name: Gender, dtype: int64\n",
      "\n",
      "Probability of randomly selected CMSU Male student is 46.77\n"
     ]
    }
   ],
   "source": [
    "#Answer for 2.2.1. What is the probability that a randomly selected CMSU student will be male?\n",
    "print(df1['Gender'].value_counts())\n",
    "print('')\n",
    "print(\"Probability of randomly selected CMSU Male student is\", round(29/(29+33)*100,ndigits=2))"
   ]
  },
  {
   "cell_type": "code",
   "execution_count": 41,
   "id": "27e44cf8",
   "metadata": {},
   "outputs": [
    {
     "name": "stdout",
     "output_type": "stream",
     "text": [
      "Female    33\n",
      "Male      29\n",
      "Name: Gender, dtype: int64\n",
      "\n",
      "Probability of randomly selected CMSU Female student is 53.23\n"
     ]
    }
   ],
   "source": [
    "# Answer for 2.2.2. What is the probability that a randomly selected CMSU student will be female?\n",
    "print(df1['Gender'].value_counts())\n",
    "print('')\n",
    "print(\"Probability of randomly selected CMSU Female student is\", round(33/(33+29)*100,ndigits=2))"
   ]
  },
  {
   "cell_type": "code",
   "execution_count": 42,
   "id": "88f8dd5d",
   "metadata": {},
   "outputs": [
    {
     "data": {
      "text/html": [
       "<div>\n",
       "<style scoped>\n",
       "    .dataframe tbody tr th:only-of-type {\n",
       "        vertical-align: middle;\n",
       "    }\n",
       "\n",
       "    .dataframe tbody tr th {\n",
       "        vertical-align: top;\n",
       "    }\n",
       "\n",
       "    .dataframe thead th {\n",
       "        text-align: right;\n",
       "    }\n",
       "</style>\n",
       "<table border=\"1\" class=\"dataframe\">\n",
       "  <thead>\n",
       "    <tr style=\"text-align: right;\">\n",
       "      <th>Major</th>\n",
       "      <th>Accounting</th>\n",
       "      <th>CIS</th>\n",
       "      <th>Economics/Finance</th>\n",
       "      <th>International Business</th>\n",
       "      <th>Management</th>\n",
       "      <th>Other</th>\n",
       "      <th>Retailing/Marketing</th>\n",
       "      <th>Undecided</th>\n",
       "    </tr>\n",
       "    <tr>\n",
       "      <th>Gender</th>\n",
       "      <th></th>\n",
       "      <th></th>\n",
       "      <th></th>\n",
       "      <th></th>\n",
       "      <th></th>\n",
       "      <th></th>\n",
       "      <th></th>\n",
       "      <th></th>\n",
       "    </tr>\n",
       "  </thead>\n",
       "  <tbody>\n",
       "    <tr>\n",
       "      <th>Female</th>\n",
       "      <td>3</td>\n",
       "      <td>3</td>\n",
       "      <td>7</td>\n",
       "      <td>4</td>\n",
       "      <td>4</td>\n",
       "      <td>3</td>\n",
       "      <td>9</td>\n",
       "      <td>0</td>\n",
       "    </tr>\n",
       "    <tr>\n",
       "      <th>Male</th>\n",
       "      <td>4</td>\n",
       "      <td>1</td>\n",
       "      <td>4</td>\n",
       "      <td>2</td>\n",
       "      <td>6</td>\n",
       "      <td>4</td>\n",
       "      <td>5</td>\n",
       "      <td>3</td>\n",
       "    </tr>\n",
       "  </tbody>\n",
       "</table>\n",
       "</div>"
      ],
      "text/plain": [
       "Major   Accounting  CIS  Economics/Finance  International Business  \\\n",
       "Gender                                                               \n",
       "Female           3    3                  7                       4   \n",
       "Male             4    1                  4                       2   \n",
       "\n",
       "Major   Management  Other  Retailing/Marketing  Undecided  \n",
       "Gender                                                     \n",
       "Female           4      3                    9          0  \n",
       "Male             6      4                    5          3  "
      ]
     },
     "execution_count": 42,
     "metadata": {},
     "output_type": "execute_result"
    }
   ],
   "source": [
    "# Answer for 2.3.1 Find the conditional probability of different majors among the male students in CMSU\n",
    "GM=pd.crosstab(df1[\"Gender\"],df1[\"Major\"])\n",
    "GM"
   ]
  },
  {
   "cell_type": "code",
   "execution_count": 43,
   "id": "0e99df3a",
   "metadata": {},
   "outputs": [
    {
     "name": "stdout",
     "output_type": "stream",
     "text": [
      "For MALE candidates:\n",
      "Probability of Accounting : 13.79\n",
      "Probability of CIS : 3.45\n",
      "Probability of Economics/Finance : 13.79\n",
      "Probability of International Business: 6.9\n",
      "Probability of Management: 20.69\n",
      "Probability of Other: 13.79\n",
      "Probability of Retailing/Marketing: 17.24\n",
      "Probability of Undecided: 10.34\n",
      "\n",
      "Observation :\n",
      "Basis on above results we can identify that most of the male students have selected Management major(20.69%)\n",
      "and least selected major is CIS(3.45%)\n"
     ]
    }
   ],
   "source": [
    "# Answer for 2.3.1 Find the conditional probability of different majors among the male students in CMSU\n",
    "print('For MALE candidates:')\n",
    "print('Probability of Accounting :',round(4/29*100,ndigits=2))\n",
    "print('Probability of CIS :',round(1/29*100,ndigits=2))\n",
    "print('Probability of Economics/Finance :', round(4/29*100,ndigits=2))\n",
    "print('Probability of International Business:', round(2/29*100, ndigits=2))\n",
    "print('Probability of Management:',round(6/29*100, ndigits=2))\n",
    "print('Probability of Other:',round(4/29*100,ndigits=2))\n",
    "print('Probability of Retailing/Marketing:',round(5/29*100,ndigits=2))\n",
    "print('Probability of Undecided:',round(3/29*100,ndigits=2))\n",
    "print('')\n",
    "print(\"Observation :\")\n",
    "print(\"Basis on above results we can identify that most of the male students have selected Management major(20.69%)\")\n",
    "print(\"and least selected major is CIS(3.45%)\")"
   ]
  },
  {
   "cell_type": "code",
   "execution_count": 44,
   "id": "15aa9f41",
   "metadata": {},
   "outputs": [
    {
     "data": {
      "text/html": [
       "<div>\n",
       "<style scoped>\n",
       "    .dataframe tbody tr th:only-of-type {\n",
       "        vertical-align: middle;\n",
       "    }\n",
       "\n",
       "    .dataframe tbody tr th {\n",
       "        vertical-align: top;\n",
       "    }\n",
       "\n",
       "    .dataframe thead th {\n",
       "        text-align: right;\n",
       "    }\n",
       "</style>\n",
       "<table border=\"1\" class=\"dataframe\">\n",
       "  <thead>\n",
       "    <tr style=\"text-align: right;\">\n",
       "      <th>Major</th>\n",
       "      <th>Accounting</th>\n",
       "      <th>CIS</th>\n",
       "      <th>Economics/Finance</th>\n",
       "      <th>International Business</th>\n",
       "      <th>Management</th>\n",
       "      <th>Other</th>\n",
       "      <th>Retailing/Marketing</th>\n",
       "      <th>Undecided</th>\n",
       "    </tr>\n",
       "    <tr>\n",
       "      <th>Gender</th>\n",
       "      <th></th>\n",
       "      <th></th>\n",
       "      <th></th>\n",
       "      <th></th>\n",
       "      <th></th>\n",
       "      <th></th>\n",
       "      <th></th>\n",
       "      <th></th>\n",
       "    </tr>\n",
       "  </thead>\n",
       "  <tbody>\n",
       "    <tr>\n",
       "      <th>Female</th>\n",
       "      <td>3</td>\n",
       "      <td>3</td>\n",
       "      <td>7</td>\n",
       "      <td>4</td>\n",
       "      <td>4</td>\n",
       "      <td>3</td>\n",
       "      <td>9</td>\n",
       "      <td>0</td>\n",
       "    </tr>\n",
       "    <tr>\n",
       "      <th>Male</th>\n",
       "      <td>4</td>\n",
       "      <td>1</td>\n",
       "      <td>4</td>\n",
       "      <td>2</td>\n",
       "      <td>6</td>\n",
       "      <td>4</td>\n",
       "      <td>5</td>\n",
       "      <td>3</td>\n",
       "    </tr>\n",
       "  </tbody>\n",
       "</table>\n",
       "</div>"
      ],
      "text/plain": [
       "Major   Accounting  CIS  Economics/Finance  International Business  \\\n",
       "Gender                                                               \n",
       "Female           3    3                  7                       4   \n",
       "Male             4    1                  4                       2   \n",
       "\n",
       "Major   Management  Other  Retailing/Marketing  Undecided  \n",
       "Gender                                                     \n",
       "Female           4      3                    9          0  \n",
       "Male             6      4                    5          3  "
      ]
     },
     "execution_count": 44,
     "metadata": {},
     "output_type": "execute_result"
    }
   ],
   "source": [
    "# Answer for 2.3.2 Find the conditional probability of different majors among the female students in CMSU\n",
    "GM=pd.crosstab(df1[\"Gender\"],df1[\"Major\"])\n",
    "GM"
   ]
  },
  {
   "cell_type": "code",
   "execution_count": 45,
   "id": "37d0cada",
   "metadata": {},
   "outputs": [
    {
     "name": "stdout",
     "output_type": "stream",
     "text": [
      "For FEMALE candidates:\n",
      "Probability of Accounting : 9.09\n",
      "Probability of CIS : 9.09\n",
      "Probability of Economics/Finance : 21.21\n",
      "Probability of International Business: 12.12\n",
      "Probability of Management: 12.12\n",
      "Probability of Other: 9.09\n",
      "Probability of Retailing/Marketing: 27.27\n",
      "Probability of Undecided: 0.0\n",
      "\n",
      "Observation :\n",
      "Basis on above results we can identify that most of the female students have selected Retailing/Marketing major(27.27%)\n",
      "and there is no any undecided major(0%) within female students.\n"
     ]
    }
   ],
   "source": [
    "print('For FEMALE candidates:')\n",
    "print('Probability of Accounting :',round(3/33*100,ndigits=2))\n",
    "print('Probability of CIS :',round(3/33*100,ndigits=2))\n",
    "print('Probability of Economics/Finance :',round(7/33*100,ndigits=2))\n",
    "print('Probability of International Business:',round(4/33*100,ndigits=2))\n",
    "print('Probability of Management:',round(4/33*100,ndigits=2))\n",
    "print('Probability of Other:',round(3/33*100,ndigits=2))\n",
    "print('Probability of Retailing/Marketing:',round(9/33*100,ndigits=2))\n",
    "print('Probability of Undecided:',round(0/33*100,ndigits=2))\n",
    "print('')\n",
    "print(\"Observation :\")\n",
    "print(\"Basis on above results we can identify that most of the female students have selected Retailing/Marketing major(27.27%)\")\n",
    "print(\"and there is no any undecided major(0%) within female students.\")"
   ]
  },
  {
   "cell_type": "code",
   "execution_count": 46,
   "id": "088c3757",
   "metadata": {},
   "outputs": [
    {
     "data": {
      "text/html": [
       "<div>\n",
       "<style scoped>\n",
       "    .dataframe tbody tr th:only-of-type {\n",
       "        vertical-align: middle;\n",
       "    }\n",
       "\n",
       "    .dataframe tbody tr th {\n",
       "        vertical-align: top;\n",
       "    }\n",
       "\n",
       "    .dataframe thead th {\n",
       "        text-align: right;\n",
       "    }\n",
       "</style>\n",
       "<table border=\"1\" class=\"dataframe\">\n",
       "  <thead>\n",
       "    <tr style=\"text-align: right;\">\n",
       "      <th>Grad Intention</th>\n",
       "      <th>No</th>\n",
       "      <th>Undecided</th>\n",
       "      <th>Yes</th>\n",
       "    </tr>\n",
       "    <tr>\n",
       "      <th>Gender</th>\n",
       "      <th></th>\n",
       "      <th></th>\n",
       "      <th></th>\n",
       "    </tr>\n",
       "  </thead>\n",
       "  <tbody>\n",
       "    <tr>\n",
       "      <th>Female</th>\n",
       "      <td>9</td>\n",
       "      <td>13</td>\n",
       "      <td>11</td>\n",
       "    </tr>\n",
       "    <tr>\n",
       "      <th>Male</th>\n",
       "      <td>3</td>\n",
       "      <td>9</td>\n",
       "      <td>17</td>\n",
       "    </tr>\n",
       "  </tbody>\n",
       "</table>\n",
       "</div>"
      ],
      "text/plain": [
       "Grad Intention  No  Undecided  Yes\n",
       "Gender                            \n",
       "Female           9         13   11\n",
       "Male             3          9   17"
      ]
     },
     "execution_count": 46,
     "metadata": {},
     "output_type": "execute_result"
    }
   ],
   "source": [
    "#Answer for 2.4.1. Find the probability That a randomly chosen student is a male and intends to graduate.\n",
    "GGI=pd.crosstab(df1[\"Gender\"],df1[\"Grad Intention\"])\n",
    "GGI"
   ]
  },
  {
   "cell_type": "code",
   "execution_count": 47,
   "id": "6c9141e7",
   "metadata": {},
   "outputs": [
    {
     "name": "stdout",
     "output_type": "stream",
     "text": [
      "Probability of a randomly chosen male students and intends to graduate is  58.62\n"
     ]
    }
   ],
   "source": [
    "print(\"Probability of a randomly chosen male students and intends to graduate is \",round((17/29) * 100,ndigits=2))"
   ]
  },
  {
   "cell_type": "code",
   "execution_count": 48,
   "id": "a3dac77d",
   "metadata": {},
   "outputs": [
    {
     "data": {
      "text/html": [
       "<div>\n",
       "<style scoped>\n",
       "    .dataframe tbody tr th:only-of-type {\n",
       "        vertical-align: middle;\n",
       "    }\n",
       "\n",
       "    .dataframe tbody tr th {\n",
       "        vertical-align: top;\n",
       "    }\n",
       "\n",
       "    .dataframe thead th {\n",
       "        text-align: right;\n",
       "    }\n",
       "</style>\n",
       "<table border=\"1\" class=\"dataframe\">\n",
       "  <thead>\n",
       "    <tr style=\"text-align: right;\">\n",
       "      <th>Computer</th>\n",
       "      <th>Desktop</th>\n",
       "      <th>Laptop</th>\n",
       "      <th>Tablet</th>\n",
       "    </tr>\n",
       "    <tr>\n",
       "      <th>Gender</th>\n",
       "      <th></th>\n",
       "      <th></th>\n",
       "      <th></th>\n",
       "    </tr>\n",
       "  </thead>\n",
       "  <tbody>\n",
       "    <tr>\n",
       "      <th>Female</th>\n",
       "      <td>2</td>\n",
       "      <td>29</td>\n",
       "      <td>2</td>\n",
       "    </tr>\n",
       "    <tr>\n",
       "      <th>Male</th>\n",
       "      <td>3</td>\n",
       "      <td>26</td>\n",
       "      <td>0</td>\n",
       "    </tr>\n",
       "  </tbody>\n",
       "</table>\n",
       "</div>"
      ],
      "text/plain": [
       "Computer  Desktop  Laptop  Tablet\n",
       "Gender                           \n",
       "Female          2      29       2\n",
       "Male            3      26       0"
      ]
     },
     "execution_count": 48,
     "metadata": {},
     "output_type": "execute_result"
    }
   ],
   "source": [
    "#Answer for 2.4.2. Find the probability that a randomly selected student is a female and does NOT have a laptop\n",
    "GC=pd.crosstab(df1[\"Gender\"],df1[\"Computer\"])\n",
    "GC"
   ]
  },
  {
   "cell_type": "code",
   "execution_count": 49,
   "id": "ab7de6b7",
   "metadata": {},
   "outputs": [
    {
     "name": "stdout",
     "output_type": "stream",
     "text": [
      "Total number of female who are having laptop = 29\n",
      "Total number of students who all are having laptop = 55\n",
      "Probability of randomly selected student is a female and does not have a laptop= 0.47\n"
     ]
    }
   ],
   "source": [
    "print(\"Total number of female who are having laptop = 29\")\n",
    "print(\"Total number of students who all are having laptop =\", 29+26)\n",
    "print(\"Probability of randomly selected student is a female and does not have a laptop=\",round(1-(29/55),ndigits=2))"
   ]
  },
  {
   "cell_type": "code",
   "execution_count": 50,
   "id": "bc35bfe0",
   "metadata": {},
   "outputs": [
    {
     "data": {
      "text/html": [
       "<div>\n",
       "<style scoped>\n",
       "    .dataframe tbody tr th:only-of-type {\n",
       "        vertical-align: middle;\n",
       "    }\n",
       "\n",
       "    .dataframe tbody tr th {\n",
       "        vertical-align: top;\n",
       "    }\n",
       "\n",
       "    .dataframe thead th {\n",
       "        text-align: right;\n",
       "    }\n",
       "</style>\n",
       "<table border=\"1\" class=\"dataframe\">\n",
       "  <thead>\n",
       "    <tr style=\"text-align: right;\">\n",
       "      <th>Employment</th>\n",
       "      <th>Full-Time</th>\n",
       "      <th>Part-Time</th>\n",
       "      <th>Unemployed</th>\n",
       "    </tr>\n",
       "    <tr>\n",
       "      <th>Gender</th>\n",
       "      <th></th>\n",
       "      <th></th>\n",
       "      <th></th>\n",
       "    </tr>\n",
       "  </thead>\n",
       "  <tbody>\n",
       "    <tr>\n",
       "      <th>Female</th>\n",
       "      <td>3</td>\n",
       "      <td>24</td>\n",
       "      <td>6</td>\n",
       "    </tr>\n",
       "    <tr>\n",
       "      <th>Male</th>\n",
       "      <td>7</td>\n",
       "      <td>19</td>\n",
       "      <td>3</td>\n",
       "    </tr>\n",
       "  </tbody>\n",
       "</table>\n",
       "</div>"
      ],
      "text/plain": [
       "Employment  Full-Time  Part-Time  Unemployed\n",
       "Gender                                      \n",
       "Female              3         24           6\n",
       "Male                7         19           3"
      ]
     },
     "execution_count": 50,
     "metadata": {},
     "output_type": "execute_result"
    }
   ],
   "source": [
    "# Answer for 2.5.1 Find the probability that a randomly chosen student is a male or has a full-time employment\n",
    "GE=pd.crosstab(df1[\"Gender\"],df1[\"Employment\"])\n",
    "GE"
   ]
  },
  {
   "cell_type": "code",
   "execution_count": 51,
   "id": "550e5fad",
   "metadata": {},
   "outputs": [
    {
     "name": "stdout",
     "output_type": "stream",
     "text": [
      "Probability of randomly chosen male students is 46.77\n",
      "Probability of students with full time employment is 16.13\n",
      "Probability of male students with full time employment is 11.29\n",
      "Probability of randomly chosen student is a male or who has a full time employment is 51.61\n"
     ]
    }
   ],
   "source": [
    "print(\"Probability of randomly chosen male students is\",round(29/62*100,ndigits=2))\n",
    "print(\"Probability of students with full time employment is\",round(10/62*100,ndigits=2))\n",
    "print(\"Probability of male students with full time employment is\",round(7/62*100,ndigits=2))\n",
    "print(\"Probability of randomly chosen student is a male or who has a full time employment is\",round(29/62*100+10/62*100-7/62*100,ndigits=2))"
   ]
  },
  {
   "cell_type": "code",
   "execution_count": 52,
   "id": "45b8b8dd",
   "metadata": {},
   "outputs": [
    {
     "data": {
      "text/html": [
       "<div>\n",
       "<style scoped>\n",
       "    .dataframe tbody tr th:only-of-type {\n",
       "        vertical-align: middle;\n",
       "    }\n",
       "\n",
       "    .dataframe tbody tr th {\n",
       "        vertical-align: top;\n",
       "    }\n",
       "\n",
       "    .dataframe thead th {\n",
       "        text-align: right;\n",
       "    }\n",
       "</style>\n",
       "<table border=\"1\" class=\"dataframe\">\n",
       "  <thead>\n",
       "    <tr style=\"text-align: right;\">\n",
       "      <th>Major</th>\n",
       "      <th>Accounting</th>\n",
       "      <th>CIS</th>\n",
       "      <th>Economics/Finance</th>\n",
       "      <th>International Business</th>\n",
       "      <th>Management</th>\n",
       "      <th>Other</th>\n",
       "      <th>Retailing/Marketing</th>\n",
       "      <th>Undecided</th>\n",
       "    </tr>\n",
       "    <tr>\n",
       "      <th>Gender</th>\n",
       "      <th></th>\n",
       "      <th></th>\n",
       "      <th></th>\n",
       "      <th></th>\n",
       "      <th></th>\n",
       "      <th></th>\n",
       "      <th></th>\n",
       "      <th></th>\n",
       "    </tr>\n",
       "  </thead>\n",
       "  <tbody>\n",
       "    <tr>\n",
       "      <th>Female</th>\n",
       "      <td>3</td>\n",
       "      <td>3</td>\n",
       "      <td>7</td>\n",
       "      <td>4</td>\n",
       "      <td>4</td>\n",
       "      <td>3</td>\n",
       "      <td>9</td>\n",
       "      <td>0</td>\n",
       "    </tr>\n",
       "    <tr>\n",
       "      <th>Male</th>\n",
       "      <td>4</td>\n",
       "      <td>1</td>\n",
       "      <td>4</td>\n",
       "      <td>2</td>\n",
       "      <td>6</td>\n",
       "      <td>4</td>\n",
       "      <td>5</td>\n",
       "      <td>3</td>\n",
       "    </tr>\n",
       "  </tbody>\n",
       "</table>\n",
       "</div>"
      ],
      "text/plain": [
       "Major   Accounting  CIS  Economics/Finance  International Business  \\\n",
       "Gender                                                               \n",
       "Female           3    3                  7                       4   \n",
       "Male             4    1                  4                       2   \n",
       "\n",
       "Major   Management  Other  Retailing/Marketing  Undecided  \n",
       "Gender                                                     \n",
       "Female           4      3                    9          0  \n",
       "Male             6      4                    5          3  "
      ]
     },
     "execution_count": 52,
     "metadata": {},
     "output_type": "execute_result"
    }
   ],
   "source": [
    "# Answer for 2.5.2 Find the conditional probability that given a female student is randomly chosen, she is majoring in international business or management.\n",
    "GM=pd.crosstab(df1[\"Gender\"],df1[\"Major\"])\n",
    "GM"
   ]
  },
  {
   "cell_type": "code",
   "execution_count": 53,
   "id": "fceb1588",
   "metadata": {},
   "outputs": [
    {
     "name": "stdout",
     "output_type": "stream",
     "text": [
      "Probability of female who have chosen International business is 12.12\n",
      "Probability of female who have chosen Management is 12.12\n",
      "Probability that given female student who is majoring in international business or management is 24.24\n"
     ]
    }
   ],
   "source": [
    "print(\"Probability of female who have chosen International business is\",round(4/33*100,ndigits=2))\n",
    "print(\"Probability of female who have chosen Management is\",round(4/33*100,ndigits=2))\n",
    "print(\"Probability that given female student who is majoring in international business or management is\",round(4/33*100+4/33*100,ndigits=2))"
   ]
  },
  {
   "cell_type": "code",
   "execution_count": 54,
   "id": "ece3f414",
   "metadata": {},
   "outputs": [
    {
     "data": {
      "text/html": [
       "<div>\n",
       "<style scoped>\n",
       "    .dataframe tbody tr th:only-of-type {\n",
       "        vertical-align: middle;\n",
       "    }\n",
       "\n",
       "    .dataframe tbody tr th {\n",
       "        vertical-align: top;\n",
       "    }\n",
       "\n",
       "    .dataframe thead th {\n",
       "        text-align: right;\n",
       "    }\n",
       "</style>\n",
       "<table border=\"1\" class=\"dataframe\">\n",
       "  <thead>\n",
       "    <tr style=\"text-align: right;\">\n",
       "      <th>Grad Intention</th>\n",
       "      <th>No</th>\n",
       "      <th>Yes</th>\n",
       "    </tr>\n",
       "    <tr>\n",
       "      <th>Gender</th>\n",
       "      <th></th>\n",
       "      <th></th>\n",
       "    </tr>\n",
       "  </thead>\n",
       "  <tbody>\n",
       "    <tr>\n",
       "      <th>Female</th>\n",
       "      <td>9</td>\n",
       "      <td>11</td>\n",
       "    </tr>\n",
       "    <tr>\n",
       "      <th>Male</th>\n",
       "      <td>3</td>\n",
       "      <td>17</td>\n",
       "    </tr>\n",
       "  </tbody>\n",
       "</table>\n",
       "</div>"
      ],
      "text/plain": [
       "Grad Intention  No  Yes\n",
       "Gender                 \n",
       "Female           9   11\n",
       "Male             3   17"
      ]
     },
     "execution_count": 54,
     "metadata": {},
     "output_type": "execute_result"
    }
   ],
   "source": [
    "# Answer for 2.6 - Construct a contingency table of Gender and Intent to Graduate at 2 levels (Yes/No). The Undecided students are not considered now and the table is a 2x2 table. Do you think graduate intention and being female are independent events?\n",
    "GGI=pd.crosstab(df1[\"Gender\"],df1[\"Grad Intention\"])\n",
    "GGI.drop(labels='Undecided',axis=1)"
   ]
  },
  {
   "cell_type": "code",
   "execution_count": 55,
   "id": "35584189",
   "metadata": {},
   "outputs": [],
   "source": [
    "#Image(filename='C:/Users/Rajashri/Downloads/NewData.jpg',width=300,height=300)"
   ]
  },
  {
   "cell_type": "code",
   "execution_count": 56,
   "id": "c85d3cde",
   "metadata": {},
   "outputs": [
    {
     "name": "stdout",
     "output_type": "stream",
     "text": [
      "Probability of graduate intention yes is 0.7\n",
      "Probability of given female 0.5\n",
      "Probability of graduate intention times probability of female= 0.35\n",
      "Probability for graduate intention and being female is 0.275\n",
      "Basis on results we can find out both probabilities are not equal hence these are not independant events.\n"
     ]
    }
   ],
   "source": [
    "# Half Answer for 2.6 - Do you think graduate intention and being female are independent events ?\n",
    "print(\"Probability of graduate intention yes is\",28/40)\n",
    "print(\"Probability of given female\",20/40)\n",
    "print(\"Probability of graduate intention times probability of female=\",28/40*20/40)\n",
    "print(\"Probability for graduate intention and being female is\",11/40)\n",
    "print(\"Basis on results we can find out both probabilities are not equal hence these are not independant events.\")"
   ]
  },
  {
   "cell_type": "code",
   "execution_count": 57,
   "id": "46df0819",
   "metadata": {},
   "outputs": [
    {
     "data": {
      "text/html": [
       "<div>\n",
       "<style scoped>\n",
       "    .dataframe tbody tr th:only-of-type {\n",
       "        vertical-align: middle;\n",
       "    }\n",
       "\n",
       "    .dataframe tbody tr th {\n",
       "        vertical-align: top;\n",
       "    }\n",
       "\n",
       "    .dataframe thead th {\n",
       "        text-align: right;\n",
       "    }\n",
       "</style>\n",
       "<table border=\"1\" class=\"dataframe\">\n",
       "  <thead>\n",
       "    <tr style=\"text-align: right;\">\n",
       "      <th>GPA</th>\n",
       "      <th>2.3</th>\n",
       "      <th>2.4</th>\n",
       "      <th>2.5</th>\n",
       "      <th>2.6</th>\n",
       "      <th>2.8</th>\n",
       "      <th>2.9</th>\n",
       "      <th>3.0</th>\n",
       "      <th>3.1</th>\n",
       "      <th>3.2</th>\n",
       "      <th>3.3</th>\n",
       "      <th>3.4</th>\n",
       "      <th>3.5</th>\n",
       "      <th>3.6</th>\n",
       "      <th>3.7</th>\n",
       "      <th>3.8</th>\n",
       "      <th>3.9</th>\n",
       "    </tr>\n",
       "    <tr>\n",
       "      <th>Gender</th>\n",
       "      <th></th>\n",
       "      <th></th>\n",
       "      <th></th>\n",
       "      <th></th>\n",
       "      <th></th>\n",
       "      <th></th>\n",
       "      <th></th>\n",
       "      <th></th>\n",
       "      <th></th>\n",
       "      <th></th>\n",
       "      <th></th>\n",
       "      <th></th>\n",
       "      <th></th>\n",
       "      <th></th>\n",
       "      <th></th>\n",
       "      <th></th>\n",
       "    </tr>\n",
       "  </thead>\n",
       "  <tbody>\n",
       "    <tr>\n",
       "      <th>Female</th>\n",
       "      <td>1</td>\n",
       "      <td>1</td>\n",
       "      <td>2</td>\n",
       "      <td>0</td>\n",
       "      <td>1</td>\n",
       "      <td>3</td>\n",
       "      <td>5</td>\n",
       "      <td>2</td>\n",
       "      <td>4</td>\n",
       "      <td>3</td>\n",
       "      <td>2</td>\n",
       "      <td>4</td>\n",
       "      <td>1</td>\n",
       "      <td>2</td>\n",
       "      <td>1</td>\n",
       "      <td>1</td>\n",
       "    </tr>\n",
       "    <tr>\n",
       "      <th>Male</th>\n",
       "      <td>0</td>\n",
       "      <td>0</td>\n",
       "      <td>4</td>\n",
       "      <td>2</td>\n",
       "      <td>2</td>\n",
       "      <td>1</td>\n",
       "      <td>2</td>\n",
       "      <td>5</td>\n",
       "      <td>2</td>\n",
       "      <td>2</td>\n",
       "      <td>5</td>\n",
       "      <td>2</td>\n",
       "      <td>2</td>\n",
       "      <td>0</td>\n",
       "      <td>0</td>\n",
       "      <td>0</td>\n",
       "    </tr>\n",
       "  </tbody>\n",
       "</table>\n",
       "</div>"
      ],
      "text/plain": [
       "GPA     2.3  2.4  2.5  2.6  2.8  2.9  3.0  3.1  3.2  3.3  3.4  3.5  3.6  3.7  \\\n",
       "Gender                                                                         \n",
       "Female    1    1    2    0    1    3    5    2    4    3    2    4    1    2   \n",
       "Male      0    0    4    2    2    1    2    5    2    2    5    2    2    0   \n",
       "\n",
       "GPA     3.8  3.9  \n",
       "Gender            \n",
       "Female    1    1  \n",
       "Male      0    0  "
      ]
     },
     "execution_count": 57,
     "metadata": {},
     "output_type": "execute_result"
    }
   ],
   "source": [
    "#Answer for 2.7.1 If a student is chosen randomly, what is the probability that his/her GPA is less than 3\n",
    "A=pd.crosstab(df1[\"Gender\"],df1[\"GPA\"])\n",
    "A"
   ]
  },
  {
   "cell_type": "code",
   "execution_count": 58,
   "id": "96ce039b",
   "metadata": {},
   "outputs": [
    {
     "name": "stdout",
     "output_type": "stream",
     "text": [
      "Number of male students whose GPA is less than 3 = 9\n",
      "Number of female students whose GPA is less than 3 = 8\n",
      "Probability that if a student is chosen randomly his/her GPA<3 is 27.419354838709676\n"
     ]
    }
   ],
   "source": [
    "print(\"Number of male students whose GPA is less than 3 =\",9 )\n",
    "print(\"Number of female students whose GPA is less than 3 =\",8)\n",
    "print(\"Probability that if a student is chosen randomly his/her GPA<3 is\",17/62*100)"
   ]
  },
  {
   "cell_type": "code",
   "execution_count": 59,
   "id": "22469687",
   "metadata": {},
   "outputs": [
    {
     "data": {
      "text/html": [
       "<div>\n",
       "<style scoped>\n",
       "    .dataframe tbody tr th:only-of-type {\n",
       "        vertical-align: middle;\n",
       "    }\n",
       "\n",
       "    .dataframe tbody tr th {\n",
       "        vertical-align: top;\n",
       "    }\n",
       "\n",
       "    .dataframe thead th {\n",
       "        text-align: right;\n",
       "    }\n",
       "</style>\n",
       "<table border=\"1\" class=\"dataframe\">\n",
       "  <thead>\n",
       "    <tr style=\"text-align: right;\">\n",
       "      <th>Salary</th>\n",
       "      <th>25.0</th>\n",
       "      <th>30.0</th>\n",
       "      <th>35.0</th>\n",
       "      <th>37.0</th>\n",
       "      <th>37.5</th>\n",
       "      <th>40.0</th>\n",
       "      <th>42.0</th>\n",
       "      <th>45.0</th>\n",
       "      <th>47.0</th>\n",
       "      <th>47.5</th>\n",
       "      <th>50.0</th>\n",
       "      <th>52.0</th>\n",
       "      <th>54.0</th>\n",
       "      <th>55.0</th>\n",
       "      <th>60.0</th>\n",
       "      <th>65.0</th>\n",
       "      <th>70.0</th>\n",
       "      <th>78.0</th>\n",
       "      <th>80.0</th>\n",
       "    </tr>\n",
       "    <tr>\n",
       "      <th>Gender</th>\n",
       "      <th></th>\n",
       "      <th></th>\n",
       "      <th></th>\n",
       "      <th></th>\n",
       "      <th></th>\n",
       "      <th></th>\n",
       "      <th></th>\n",
       "      <th></th>\n",
       "      <th></th>\n",
       "      <th></th>\n",
       "      <th></th>\n",
       "      <th></th>\n",
       "      <th></th>\n",
       "      <th></th>\n",
       "      <th></th>\n",
       "      <th></th>\n",
       "      <th></th>\n",
       "      <th></th>\n",
       "      <th></th>\n",
       "    </tr>\n",
       "  </thead>\n",
       "  <tbody>\n",
       "    <tr>\n",
       "      <th>Female</th>\n",
       "      <td>0</td>\n",
       "      <td>5</td>\n",
       "      <td>1</td>\n",
       "      <td>0</td>\n",
       "      <td>1</td>\n",
       "      <td>5</td>\n",
       "      <td>1</td>\n",
       "      <td>1</td>\n",
       "      <td>0</td>\n",
       "      <td>1</td>\n",
       "      <td>5</td>\n",
       "      <td>0</td>\n",
       "      <td>0</td>\n",
       "      <td>5</td>\n",
       "      <td>5</td>\n",
       "      <td>0</td>\n",
       "      <td>1</td>\n",
       "      <td>1</td>\n",
       "      <td>1</td>\n",
       "    </tr>\n",
       "    <tr>\n",
       "      <th>Male</th>\n",
       "      <td>1</td>\n",
       "      <td>0</td>\n",
       "      <td>1</td>\n",
       "      <td>1</td>\n",
       "      <td>0</td>\n",
       "      <td>7</td>\n",
       "      <td>0</td>\n",
       "      <td>4</td>\n",
       "      <td>1</td>\n",
       "      <td>0</td>\n",
       "      <td>4</td>\n",
       "      <td>1</td>\n",
       "      <td>1</td>\n",
       "      <td>3</td>\n",
       "      <td>3</td>\n",
       "      <td>1</td>\n",
       "      <td>0</td>\n",
       "      <td>0</td>\n",
       "      <td>1</td>\n",
       "    </tr>\n",
       "  </tbody>\n",
       "</table>\n",
       "</div>"
      ],
      "text/plain": [
       "Salary  25.0  30.0  35.0  37.0  37.5  40.0  42.0  45.0  47.0  47.5  50.0  \\\n",
       "Gender                                                                     \n",
       "Female     0     5     1     0     1     5     1     1     0     1     5   \n",
       "Male       1     0     1     1     0     7     0     4     1     0     4   \n",
       "\n",
       "Salary  52.0  54.0  55.0  60.0  65.0  70.0  78.0  80.0  \n",
       "Gender                                                  \n",
       "Female     0     0     5     5     0     1     1     1  \n",
       "Male       1     1     3     3     1     0     0     1  "
      ]
     },
     "execution_count": 59,
     "metadata": {},
     "output_type": "execute_result"
    }
   ],
   "source": [
    "#Answer for 2.7.2 Find conditional probability that a randomly selected male earns 50 or more. Find conditional probability that a randomly selected female earns 50 or more.\n",
    "GS=pd.crosstab(df1[\"Gender\"],df1[\"Salary\"])\n",
    "GS"
   ]
  },
  {
   "cell_type": "code",
   "execution_count": 60,
   "id": "6aeaa91f",
   "metadata": {},
   "outputs": [
    {
     "name": "stdout",
     "output_type": "stream",
     "text": [
      "Conditional Probability that a randomly selected male earns 50 or more is 48.28\n",
      "Conditional Probability that a randomly selected female earns 50 or more is 54.55\n"
     ]
    }
   ],
   "source": [
    "print(\"Conditional Probability that a randomly selected male earns 50 or more is\",round(14/29*100,ndigits=2))\n",
    "print(\"Conditional Probability that a randomly selected female earns 50 or more is\",round(18/33*100, ndigits=2))"
   ]
  },
  {
   "cell_type": "code",
   "execution_count": 61,
   "id": "55b5ed9f",
   "metadata": {},
   "outputs": [
    {
     "data": {
      "image/png": "[encoded data removed]",
      "text/plain": [
       "<Figure size 720x1080 with 4 Axes>"
      ]
     },
     "metadata": {
      "needs_background": "light"
     },
     "output_type": "display_data"
    },
    {
     "name": "stdout",
     "output_type": "stream",
     "text": [
      "Final Outcome:\n",
      "1.GPA- For this variable the curve does not look like a normal curve. There are some irregularities in the values on the right side of the curve.\n",
      "2.2.Salary-For this variable the curve almost looks like a normal looking curve but this curve has a plateau on the top and there are some irregular values on the left.\n",
      "3.Spending-This is right skewed curve with a tail on left side.\n",
      "4.Text Messages-This is right skewed curve with a long-left tail.\n",
      "Hence, we can say that Spending & Text Messages are not following normal distribution.\n"
     ]
    }
   ],
   "source": [
    "#Answer for 2.8.1 Note that there are four numerical (continuous) variables in the data set, GPA, Salary, Spending and Text Messages. For each of them comment whether they follow a normal distribution.\n",
    "fig=plt.figure(figsize=(10,15))\n",
    "plt.subplot(4,2,1)\n",
    "sns.distplot(df1['GPA'])\n",
    "\n",
    "plt.subplot(4,2,2)\n",
    "sns.distplot(df1['Salary'])\n",
    "\n",
    "plt.subplot(4,2,3)\n",
    "sns.distplot(df1['Spending'])\n",
    "\n",
    "plt.subplot(4,2,4)\n",
    "sns.distplot(df1['Text Messages'])\n",
    "plt.show()\n",
    "\n",
    "print(\"Final Outcome:\")\n",
    "print(\"1.GPA- For this variable the curve does not look like a normal curve. There are some irregularities in the values on the right side of the curve.\")\n",
    "print(\"2.2.Salary-For this variable the curve almost looks like a normal looking curve but this curve has a plateau on the top and there are some irregular values on the left.\")\n",
    "print(\"3.Spending-This is right skewed curve with a tail on left side.\")\n",
    "print(\"4.Text Messages-This is right skewed curve with a long-left tail.\")\n",
    "print(\"Hence, we can say that Spending & Text Messages are not following normal distribution.\")"
   ]
  },
  {
   "cell_type": "code",
   "execution_count": 62,
   "id": "a354f2b6",
   "metadata": {},
   "outputs": [
    {
     "name": "stdout",
     "output_type": "stream",
     "text": [
      "Basis on above analysis we can find out that Female students count is high than male who attended CMSU survey.\n",
      "There are 8 different varieties of Major’s attended by students. We can find that 20.69% of male students have selected\n",
      "Management Major and 27.27% of Female students selected Retailing/Marketing Major.\n",
      "There is no any female student who has undecided any major.\n",
      "Earnings are more by female students than male students. Whereas, Male students have more spending’s than female students.\n",
      "Female students have high GPA than male students.\n"
     ]
    }
   ],
   "source": [
    "#Answer 2.8.2 Write a note summarizing your conclusions\n",
    "print(\"Basis on above analysis we can find out that Female students count is high than male who attended CMSU survey.\")\n",
    "print(\"There are 8 different varieties of Major’s attended by students. We can find that 20.69% of male students have selected\")\n",
    "print(\"Management Major and 27.27% of Female students selected Retailing/Marketing Major.\")\n",
    "print(\"There is no any female student who has undecided any major.\")\n",
    "print(\"Earnings are more by female students than male students. Whereas, Male students have more spending’s than female students.\")\n",
    "print(\"Female students have high GPA than male students.\")"
   ]
  },
  {
   "cell_type": "code",
   "execution_count": 63,
   "id": "8b2f488c",
   "metadata": {},
   "outputs": [],
   "source": [
    "# Started Answer for Problem 3 \n",
    "# Answer for 3.1 Do you think there is evidence that means moisture contents in both types of shingles are within the permissible limits? State your conclusions clearly showing all steps"
   ]
  },
  {
   "cell_type": "code",
   "execution_count": 64,
   "id": "22c05a81",
   "metadata": {},
   "outputs": [
    {
     "data": {
      "text/html": [
       "<div>\n",
       "<style scoped>\n",
       "    .dataframe tbody tr th:only-of-type {\n",
       "        vertical-align: middle;\n",
       "    }\n",
       "\n",
       "    .dataframe tbody tr th {\n",
       "        vertical-align: top;\n",
       "    }\n",
       "\n",
       "    .dataframe thead th {\n",
       "        text-align: right;\n",
       "    }\n",
       "</style>\n",
       "<table border=\"1\" class=\"dataframe\">\n",
       "  <thead>\n",
       "    <tr style=\"text-align: right;\">\n",
       "      <th></th>\n",
       "      <th>A</th>\n",
       "      <th>B</th>\n",
       "    </tr>\n",
       "  </thead>\n",
       "  <tbody>\n",
       "    <tr>\n",
       "      <th>0</th>\n",
       "      <td>0.44</td>\n",
       "      <td>0.14</td>\n",
       "    </tr>\n",
       "    <tr>\n",
       "      <th>1</th>\n",
       "      <td>0.61</td>\n",
       "      <td>0.15</td>\n",
       "    </tr>\n",
       "    <tr>\n",
       "      <th>2</th>\n",
       "      <td>0.47</td>\n",
       "      <td>0.31</td>\n",
       "    </tr>\n",
       "    <tr>\n",
       "      <th>3</th>\n",
       "      <td>0.30</td>\n",
       "      <td>0.16</td>\n",
       "    </tr>\n",
       "    <tr>\n",
       "      <th>4</th>\n",
       "      <td>0.15</td>\n",
       "      <td>0.37</td>\n",
       "    </tr>\n",
       "  </tbody>\n",
       "</table>\n",
       "</div>"
      ],
      "text/plain": [
       "      A     B\n",
       "0  0.44  0.14\n",
       "1  0.61  0.15\n",
       "2  0.47  0.31\n",
       "3  0.30  0.16\n",
       "4  0.15  0.37"
      ]
     },
     "execution_count": 64,
     "metadata": {},
     "output_type": "execute_result"
    }
   ],
   "source": [
    "df2=pd.read_csv(\"C:/Users/Rajashri/Downloads/A & B shingles-1.csv\")\n",
    "df2.head(5)"
   ]
  },
  {
   "cell_type": "code",
   "execution_count": 65,
   "id": "fda4f944",
   "metadata": {},
   "outputs": [
    {
     "data": {
      "text/html": [
       "<div>\n",
       "<style scoped>\n",
       "    .dataframe tbody tr th:only-of-type {\n",
       "        vertical-align: middle;\n",
       "    }\n",
       "\n",
       "    .dataframe tbody tr th {\n",
       "        vertical-align: top;\n",
       "    }\n",
       "\n",
       "    .dataframe thead th {\n",
       "        text-align: right;\n",
       "    }\n",
       "</style>\n",
       "<table border=\"1\" class=\"dataframe\">\n",
       "  <thead>\n",
       "    <tr style=\"text-align: right;\">\n",
       "      <th></th>\n",
       "      <th>count</th>\n",
       "      <th>mean</th>\n",
       "      <th>std</th>\n",
       "      <th>min</th>\n",
       "      <th>25%</th>\n",
       "      <th>50%</th>\n",
       "      <th>75%</th>\n",
       "      <th>max</th>\n",
       "    </tr>\n",
       "  </thead>\n",
       "  <tbody>\n",
       "    <tr>\n",
       "      <th>A</th>\n",
       "      <td>36.0</td>\n",
       "      <td>0.316667</td>\n",
       "      <td>0.135731</td>\n",
       "      <td>0.13</td>\n",
       "      <td>0.2075</td>\n",
       "      <td>0.29</td>\n",
       "      <td>0.3925</td>\n",
       "      <td>0.72</td>\n",
       "    </tr>\n",
       "    <tr>\n",
       "      <th>B</th>\n",
       "      <td>31.0</td>\n",
       "      <td>0.273548</td>\n",
       "      <td>0.137296</td>\n",
       "      <td>0.10</td>\n",
       "      <td>0.1600</td>\n",
       "      <td>0.23</td>\n",
       "      <td>0.4000</td>\n",
       "      <td>0.58</td>\n",
       "    </tr>\n",
       "  </tbody>\n",
       "</table>\n",
       "</div>"
      ],
      "text/plain": [
       "   count      mean       std   min     25%   50%     75%   max\n",
       "A   36.0  0.316667  0.135731  0.13  0.2075  0.29  0.3925  0.72\n",
       "B   31.0  0.273548  0.137296  0.10  0.1600  0.23  0.4000  0.58"
      ]
     },
     "execution_count": 65,
     "metadata": {},
     "output_type": "execute_result"
    }
   ],
   "source": [
    "df2.describe().T"
   ]
  },
  {
   "cell_type": "code",
   "execution_count": 66,
   "id": "94ebcded",
   "metadata": {},
   "outputs": [
    {
     "name": "stdout",
     "output_type": "stream",
     "text": [
      "H0 : mean moisture content <= 0.35\n",
      "HA : mean moisture content > 0.35 \n",
      "Alpha is considered 0.05 in this as it is not specified.\n",
      "one-sample t-test t_statistic= -1.4735046253382782 0.07477633144907513\n",
      "Value of t_statistic -1.4735046253382782\n",
      "P Value 0.0748\n",
      "\n",
      "Final Outcome-\n",
      "From the above calculation we can not reject Null Hypothesis as P Value (0.07) is greater than Alpha (0.05)\n",
      "Hence, There is no enough evidence to say, the mean moisture content for A shingle is\n",
      "less than 0.35 pounds per 100 square feet.\n"
     ]
    }
   ],
   "source": [
    "#P & statistics Value for A Shingles\n",
    "print(\"H0 : mean moisture content <= 0.35\")\n",
    "print(\"HA : mean moisture content > 0.35 \")\n",
    "print(\"Alpha is considered 0.05 in this as it is not specified.\")\n",
    "t_statistic, p_value = ttest_1samp(df2['A'], 0.35)\n",
    "print (\"one-sample t-test t_statistic=\", t_statistic,p_value/2)\n",
    "print(\"Value of t_statistic\", -1.4735046253382782)\n",
    "print(\"P Value\",round(0.07477633144907513, ndigits=4))\n",
    "print('')\n",
    "print(\"Final Outcome-\")\n",
    "print(\"From the above calculation we can not reject Null Hypothesis as P Value (0.07) is greater than Alpha (0.05)\")\n",
    "print(\"Hence, There is no enough evidence to say, the mean moisture content for A shingle is\")\n",
    "print(\"less than 0.35 pounds per 100 square feet.\")"
   ]
  },
  {
   "cell_type": "code",
   "execution_count": 67,
   "id": "2d39fcb6",
   "metadata": {},
   "outputs": [
    {
     "name": "stdout",
     "output_type": "stream",
     "text": [
      "H0 : mean moisture content <= 0.35\n",
      "HA : mean moisture content > 0.35 \n",
      "Alpha is considered 0.05 in this as it is not specified.\n",
      "one-sample t-test t_statistic= -3.1003313069986995 0.0020904774003191826\n",
      "Value of t_statistic -3.1003313069986995\n",
      "P Value is 0.0021\n",
      "\n",
      "Final Outcome-\n",
      "From the above calculation we can reject Null Hypothesis as P Value(0.0021) is less than Alpha(0.05)\n",
      "Hence, There is enough evidence to say,the mean moisture content for B shingle is\n",
      "not less than 0.35 pounds per 100 square feet.\n"
     ]
    }
   ],
   "source": [
    "#P & statistics Value for B Shingles\n",
    "print(\"H0 : mean moisture content <= 0.35\")\n",
    "print(\"HA : mean moisture content > 0.35 \")\n",
    "print(\"Alpha is considered 0.05 in this as it is not specified.\")\n",
    "t_statistic, p_value = ttest_1samp(df2['B'], 0.35,nan_policy='omit')\n",
    "print (\"one-sample t-test t_statistic=\", t_statistic,p_value/2)\n",
    "print(\"Value of t_statistic\", -3.1003313069986995)\n",
    "print(\"P Value is\",round(0.0020904774003191826,ndigits=4))\n",
    "print('')\n",
    "print(\"Final Outcome-\")\n",
    "print(\"From the above calculation we can reject Null Hypothesis as P Value(0.0021) is less than Alpha(0.05)\")\n",
    "print(\"Hence, There is enough evidence to say,the mean moisture content for B shingle is\")\n",
    "print(\"not less than 0.35 pounds per 100 square feet.\")"
   ]
  },
  {
   "cell_type": "code",
   "execution_count": 68,
   "id": "b9bb4c00",
   "metadata": {},
   "outputs": [
    {
     "name": "stdout",
     "output_type": "stream",
     "text": [
      "H0: Mean(A) = Mean(B)\n",
      "HA: Mean(A) is not equal to Mean(B)\n",
      "Alpha is considered 0.05 in this as it is not specified.\n",
      "1.2896282719661123 0.2017496571835306\n",
      "Value of t_statistic 1.2896282719661123\n",
      "P Value is 0.202\n",
      "\n",
      "Final Outcome:\n",
      "From the above calculation we can not reject Null Hypothesis as P Value(0.202) is greater than Alpha(0.05)\n",
      "Hence, We can say that the population means for shingles A and B are equal.\n"
     ]
    }
   ],
   "source": [
    "# Answer for 3.2 Do you think that the population mean for shingles A and B are equal? Form the hypothesis and conduct the test of the hypothesis. What assumption do you need to check before the test for equality of means is performed?\n",
    "print(\"H0: Mean(A) = Mean(B)\")\n",
    "print(\"HA: Mean(A) is not equal to Mean(B)\")\n",
    "print(\"Alpha is considered 0.05 in this as it is not specified.\")\n",
    "t_statistic,p_value=ttest_ind(df2['A'],df2['B'],equal_var=True ,nan_policy='omit',alternative='two-sided')\n",
    "print(t_statistic,p_value)\n",
    "print(\"Value of t_statistic\",1.2896282719661123)\n",
    "print(\"P Value is\",round(0.2017496571835306, ndigits=3))\n",
    "print('')\n",
    "print(\"Final Outcome:\")\n",
    "print(\"From the above calculation we can not reject Null Hypothesis as P Value(0.202) is greater than Alpha(0.05)\")\n",
    "print(\"Hence, We can say that the population means for shingles A and B are equal.\")"
   ]
  }
 ],
 "metadata": {
  "kernelspec": {
   "display_name": "Python 3",
   "language": "python",
   "name": "python3"
  },
  "language_info": {
   "codemirror_mode": {
    "name": "ipython",
    "version": 3
   },
   "file_extension": ".py",
   "mimetype": "text/x-python",
   "name": "python",
   "nbconvert_exporter": "python",
   "pygments_lexer": "ipython3",
   "version": "3.8.8"
  }
 },
 "nbformat": 4,
 "nbformat_minor": 5
}
